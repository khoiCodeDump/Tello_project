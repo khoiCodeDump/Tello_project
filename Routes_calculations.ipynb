{
 "cells": [
  {
   "cell_type": "code",
   "execution_count": null,
   "id": "2c8f1823-fc91-4d81-a328-49cdb43a9a08",
   "metadata": {},
   "outputs": [],
   "source": [
    "https://docs.osmcode.org/pyosmium/latest/ref_index.html\n",
    "https://osmcode.org/osmium-tool/manual.html\n",
    "https://docs.osmcode.org/osmium/latest/"
   ]
  },
  {
   "cell_type": "code",
   "execution_count": 7,
   "id": "d1216585-cb01-492d-8ba9-77e8db605f2a",
   "metadata": {
    "tags": []
   },
   "outputs": [
    {
     "name": "stdout",
     "output_type": "stream",
     "text": [
      "[{\"geometry\": {\"coordinates\": [], \"type\": \"LineString\"}, \"id\": 6487472, \"properties\": {\"bicycle\": \"designated\", \"cycleway\": \"shared_lane\", \"highway\": \"residential\", \"name\": \"24th Avenue South\", \"tiger:cfcc\": \"A41\", \"tiger:county\": \"King, WA\", \"tiger:name_base\": \"24th\", \"tiger:name_direction_suffix\": \"S\", \"tiger:name_type\": \"Ave\", \"tiger:reviewed\": \"no\"}, \"type\": \"Feature\"}, {\"geometry\": {\"coordinates\": [], \"type\": \"LineString\"}, \"id\": 481289523, \"properties\": {\"highway\": \"residential\", \"name\": \"24th Avenue South\", \"surface\": \"asphalt\", \"tiger:cfcc\": \"A41\", \"tiger:county\": \"King, WA\", \"tiger:name_base\": \"24th\", \"tiger:name_direction_suffix\": \"S\", \"tiger:name_type\": \"Ave\", \"tiger:reviewed\": \"no\"}, \"type\": \"Feature\"}, {\"geometry\": {\"coordinates\": [], \"type\": \"LineString\"}, \"id\": 481289524, \"properties\": {\"highway\": \"residential\", \"name\": \"South Hill Street\", \"tiger:cfcc\": \"A41\", \"tiger:county\": \"King, WA\", \"tiger:name_base\": \"Hill\", \"tiger:name_direction_prefix\": \"S\", \"tiger:name_type\": \"St\"}, \"type\": \"Feature\"}, {\"geometry\": {\"coordinates\": [], \"type\": \"LineString\"}, \"id\": 481289525, \"properties\": {\"bicycle\": \"designated\", \"cycleway\": \"shared_lane\", \"highway\": \"residential\", \"name\": \"South Hill Street\", \"tiger:cfcc\": \"A41\", \"tiger:county\": \"King, WA\", \"tiger:name_base\": \"Hill\", \"tiger:name_direction_prefix\": \"S\", \"tiger:name_type\": \"St\"}, \"type\": \"Feature\"}, {\"geometry\": {\"coordinates\": [], \"type\": \"LineString\"}, \"id\": 481289526, \"properties\": {\"highway\": \"residential\", \"name\": \"25th Avenue South\", \"surface\": \"asphalt\", \"tiger:cfcc\": \"A41\", \"tiger:county\": \"King, WA\", \"tiger:name_base\": \"25th\", \"tiger:name_direction_suffix\": \"S\", \"tiger:name_type\": \"Ave\", \"tiger:reviewed\": \"no\"}, \"type\": \"Feature\"}]\n"
     ]
    }
   ],
   "source": [
    "import osmium as osm\n",
    "import pandas as pd\n",
    "from overpass import API\n",
    "\n",
    "api = API()\n",
    "\n",
    "\n",
    "class OSMHandler(osm.SimpleHandler):\n",
    "    \n",
    "    def __init__(self):\n",
    "        osm.SimpleHandler.__init__(self)\n",
    "        self.osm_data = []\n",
    "        self.address = {'addr:housenumber': '2400', 'addr:postcode': '98144', 'addr:street': 'South Hill Street'}\n",
    "        self.roads_with_latlon = []\n",
    "\n",
    "    def node(self, n):\n",
    "        dict = {}\n",
    "        the_node = 0\n",
    "        for tag in n.tags:\n",
    "            dict[tag.k] = tag.v\n",
    "        for key in self.address:\n",
    "            if key not in dict:\n",
    "                the_node = 1\n",
    "                break\n",
    "            if dict[key] != self.address[key]:\n",
    "                the_node = 1\n",
    "                break\n",
    "        if the_node == 0:\n",
    "            self.lat = n.location.lat\n",
    "            self.lon = n.location.lon\n",
    "            response = api.get('way[\"highway\" =\"residential\"](around:95,{0},{1});'.format(n.location.lat,n.location.lon)) \n",
    "            # print('For location with coordinates {0}, {1} found way IDs:'.format(loc[0],loc[1]))\n",
    "            self.roads = []\n",
    "            print(response.features)\n",
    "            for way in response.features:\n",
    "                self.roads.append(way.id)\n",
    "\n",
    "    def way(self, w):\n",
    "       \n",
    "        if w.id in self.roads:\n",
    "            list = []\n",
    "            # tags = []\n",
    "            for road in w.nodes:\n",
    "                list.append(road)\n",
    "            # for tag in w.tags:\n",
    "            #     tags.append(tag)\n",
    "            # self.roads_with_latlon.append([list, tags])\n",
    "            self.roads_with_latlon.append(list)\n",
    "         # self.osm_data[w.id] =  [nodeList, tagList]\n",
    "        \n",
    "    # def relation(self, r):\n",
    "    #     self.tag_inventory(r, \"relation\")\n",
    "\n",
    "    \n",
    "osmhandler = OSMHandler()\n",
    "# scan the input file and fills the handler list accordingly\n",
    "osmhandler.apply_file(\"Downloads/map.osm\", locations=True, idx='flex_mem')\n",
    "\n",
    "# transform the list into a pandas DataFrame\n",
    "# data_colnames = ['type', 'id', 'version', 'visible', 'ts', 'uid',\n",
    "#                  'user', 'chgset', 'ntags', 'tagkey', 'tagvalue']\n",
    "# df_osm = pd.DataFrame(osmhandler.osm_data, columns=data_colnames)\n",
    "# osmhandler.roads_with_latlon\n"
   ]
  },
  {
   "cell_type": "code",
   "execution_count": 8,
   "id": "e48a98ff-500b-424a-89aa-9ceb0a044f32",
   "metadata": {},
   "outputs": [
    {
     "data": {
      "text/plain": [
       "[[osmium.osm.NodeRef(ref=53136415, location=osmium.osm.Location(x=-1223015067, y=475869198)),\n",
       "  osmium.osm.NodeRef(ref=5757431543, location=osmium.osm.Location(x=-1223015731, y=475868612)),\n",
       "  osmium.osm.NodeRef(ref=2516369689, location=osmium.osm.Location(x=-1223015896, y=475868466)),\n",
       "  osmium.osm.NodeRef(ref=152010665, location=osmium.osm.Location(x=-1223016159, y=475868093)),\n",
       "  osmium.osm.NodeRef(ref=2516441880, location=osmium.osm.Location(x=-1223016311, y=475867646)),\n",
       "  osmium.osm.NodeRef(ref=9193214107, location=osmium.osm.Location(x=-1223016316, y=475866142)),\n",
       "  osmium.osm.NodeRef(ref=5440359896, location=osmium.osm.Location(x=-1223016323, y=475864945)),\n",
       "  osmium.osm.NodeRef(ref=4799960441, location=osmium.osm.Location(x=-1223016328, y=475863911)),\n",
       "  osmium.osm.NodeRef(ref=6632334769, location=osmium.osm.Location(x=-1223016329, y=475863758)),\n",
       "  osmium.osm.NodeRef(ref=53138092, location=osmium.osm.Location(x=-1223016332, y=475863228)),\n",
       "  osmium.osm.NodeRef(ref=4799960440, location=osmium.osm.Location(x=-1223016341, y=475862734)),\n",
       "  osmium.osm.NodeRef(ref=8416045669, location=osmium.osm.Location(x=-1223016390, y=475858994)),\n",
       "  osmium.osm.NodeRef(ref=4799922610, location=osmium.osm.Location(x=-1223016440, y=475855799)),\n",
       "  osmium.osm.NodeRef(ref=6632334766, location=osmium.osm.Location(x=-1223016433, y=475855437)),\n",
       "  osmium.osm.NodeRef(ref=53148758, location=osmium.osm.Location(x=-1223016422, y=475854927)),\n",
       "  osmium.osm.NodeRef(ref=4799922611, location=osmium.osm.Location(x=-1223016438, y=475854418)),\n",
       "  osmium.osm.NodeRef(ref=8416045670, location=osmium.osm.Location(x=-1223016490, y=475850133)),\n",
       "  osmium.osm.NodeRef(ref=4799922593, location=osmium.osm.Location(x=-1223016568, y=475845848)),\n",
       "  osmium.osm.NodeRef(ref=53232306, location=osmium.osm.Location(x=-1223016580, y=475845040))],\n",
       " [osmium.osm.NodeRef(ref=53232306, location=osmium.osm.Location(x=-1223016580, y=475845040)),\n",
       "  osmium.osm.NodeRef(ref=4799922587, location=osmium.osm.Location(x=-1223016585, y=475844198)),\n",
       "  osmium.osm.NodeRef(ref=4806589034, location=osmium.osm.Location(x=-1223016679, y=475837431)),\n",
       "  osmium.osm.NodeRef(ref=53150019, location=osmium.osm.Location(x=-1223016714, y=475836433))],\n",
       " [osmium.osm.NodeRef(ref=53232306, location=osmium.osm.Location(x=-1223016580, y=475845040)),\n",
       "  osmium.osm.NodeRef(ref=4799922590, location=osmium.osm.Location(x=-1223015205, y=475844988)),\n",
       "  osmium.osm.NodeRef(ref=3663412746, location=osmium.osm.Location(x=-1223009966, y=475844989)),\n",
       "  osmium.osm.NodeRef(ref=4799890424, location=osmium.osm.Location(x=-1223004571, y=475844986)),\n",
       "  osmium.osm.NodeRef(ref=53202700, location=osmium.osm.Location(x=-1223003369, y=475844994))],\n",
       " [osmium.osm.NodeRef(ref=3496255251, location=osmium.osm.Location(x=-1223026403, y=475844869)),\n",
       "  osmium.osm.NodeRef(ref=8374179171, location=osmium.osm.Location(x=-1223024970, y=475845126)),\n",
       "  osmium.osm.NodeRef(ref=3663412752, location=osmium.osm.Location(x=-1223023058, y=475845159)),\n",
       "  osmium.osm.NodeRef(ref=5440360055, location=osmium.osm.Location(x=-1223020202, y=475845135)),\n",
       "  osmium.osm.NodeRef(ref=4799922588, location=osmium.osm.Location(x=-1223017597, y=475845119)),\n",
       "  osmium.osm.NodeRef(ref=53232306, location=osmium.osm.Location(x=-1223016580, y=475845040))],\n",
       " [osmium.osm.NodeRef(ref=9193278956, location=osmium.osm.Location(x=-1223003312, y=475862888)),\n",
       "  osmium.osm.NodeRef(ref=4749150358, location=osmium.osm.Location(x=-1223003299, y=475855448)),\n",
       "  osmium.osm.NodeRef(ref=53148760, location=osmium.osm.Location(x=-1223003311, y=475854915)),\n",
       "  osmium.osm.NodeRef(ref=4749150347, location=osmium.osm.Location(x=-1223003301, y=475854343)),\n",
       "  osmium.osm.NodeRef(ref=4749150346, location=osmium.osm.Location(x=-1223003369, y=475845752)),\n",
       "  osmium.osm.NodeRef(ref=53202700, location=osmium.osm.Location(x=-1223003369, y=475844994)),\n",
       "  osmium.osm.NodeRef(ref=4799890426, location=osmium.osm.Location(x=-1223003379, y=475844420)),\n",
       "  osmium.osm.NodeRef(ref=5440359889, location=osmium.osm.Location(x=-1223003460, y=475838398)),\n",
       "  osmium.osm.NodeRef(ref=4806588812, location=osmium.osm.Location(x=-1223003426, y=475837205)),\n",
       "  osmium.osm.NodeRef(ref=53150020, location=osmium.osm.Location(x=-1223003395, y=475836413)),\n",
       "  osmium.osm.NodeRef(ref=53202701, location=osmium.osm.Location(x=-1223003349, y=475829438)),\n",
       "  osmium.osm.NodeRef(ref=5440208574, location=osmium.osm.Location(x=-1223003352, y=475822186)),\n",
       "  osmium.osm.NodeRef(ref=9491918721, location=osmium.osm.Location(x=-1223003353, y=475820342)),\n",
       "  osmium.osm.NodeRef(ref=2049270167, location=osmium.osm.Location(x=-1223003474, y=475817572)),\n",
       "  osmium.osm.NodeRef(ref=151942828, location=osmium.osm.Location(x=-1223003488, y=475816616)),\n",
       "  osmium.osm.NodeRef(ref=9561154999, location=osmium.osm.Location(x=-1223004250, y=475816002)),\n",
       "  osmium.osm.NodeRef(ref=9561154997, location=osmium.osm.Location(x=-1223005549, y=475815591))]]"
      ]
     },
     "execution_count": 8,
     "metadata": {},
     "output_type": "execute_result"
    }
   ],
   "source": [
    "osmhandler.roads_with_latlon"
   ]
  },
  {
   "cell_type": "code",
   "execution_count": 19,
   "id": "4fb0e0a2-338a-48a0-bada-bd1d353d682f",
   "metadata": {
    "collapsed": true,
    "jupyter": {
     "outputs_hidden": true,
     "source_hidden": true
    },
    "scrolled": true
   },
   "outputs": [
    {
     "name": "stdout",
     "output_type": "stream",
     "text": [
      "[0.0006808999999918797, 481289523, osmium.osm.NodeRef(ref=53232306, location=osmium.osm.Location(x=-1223016580, y=475845040))]\n"
     ]
    }
   ],
   "source": [
    "min_of_closest_points = []\n",
    "minimum = float('inf')\n",
    "for road in osmhandler.roads_with_latlon: #4 elements\n",
    "    y_distance = road[1][0].location.lat - osmhandler.lat\n",
    "    x_distance = road[1][0].location.lon - osmhandler.lon\n",
    "    total = abs(x_distance + y_distance)\n",
    "        \n",
    "    minimum = min(total, minimum)\n",
    "        \n",
    "    min_of_closest_points.append([minimum,road[0], road[1][0]])\n",
    "\n",
    "\n",
    "lowest = float('inf')\n",
    "\n",
    "for point in min_of_closest_points:\n",
    "    if lowest > point[0]:\n",
    "        lowest = point[0]\n",
    "        road = point\n",
    "\n",
    "print(road)"
   ]
  },
  {
   "cell_type": "code",
   "execution_count": 9,
   "id": "b8d6262f-7890-4d50-846e-43fea9c90874",
   "metadata": {},
   "outputs": [],
   "source": [
    "class RoadNode:\n",
    "    def __init__(self, r):\n",
    "        self.visited = 0\n",
    "        self.nodes = []\n",
    "        self.intersection = 0\n",
    "        if r != None:\n",
    "            self.ref = r.ref\n",
    "            self.location = r.location\n",
    "        else:\n",
    "            self.ref = None\n",
    "            self.location = None\n",
    "    def addNode(self, node):\n",
    "        self.nodes.append(node)\n",
    "    \n",
    "    def getVisit(self):\n",
    "        return self.visited\n",
    "\n",
    "        \n",
    "\n",
    "\n",
    "#if a road is connected (meaning one road contains a ref of another road), the road is now one big road consisting of the smaller roads\n",
    "\n",
    "#the algo calculates routes at each point then pick the route with the shortest time to complete\n",
    "road_nodes = {}\n",
    "prev_node = RoadNode(r = None)\n",
    "\n",
    "for roadds in osmhandler.roads_with_latlon:\n",
    "    for road in roadds:\n",
    "        #inserting to road_nodes dict.\n",
    "        if road.ref in road_nodes:\n",
    "            if prev_node.ref != road.ref:\n",
    "                road_node = road_nodes[road.ref]\n",
    "                prev_node = road_node\n",
    "            # if prev_node.ref != None and prev_node.ref != road.ref:    \n",
    "            \n",
    "        else:\n",
    "            node = RoadNode(road)            \n",
    "            road_nodes[road.ref] = node\n",
    "            node.addNode(prev_node)\n",
    "            prev_node.addNode(node)\n",
    "            prev_node = node\n",
    "\n",
    "\n",
    "for key in road_nodes:\n",
    "    if len(road_nodes[key].nodes) > 2:\n",
    "        road_nodes[key].intersection = 1\n",
    "\n",
    "\n",
    "\n",
    "        "
   ]
  },
  {
   "cell_type": "code",
   "execution_count": 14,
   "id": "886101da-8ea6-4bd6-a0e8-c3ccfedb2474",
   "metadata": {},
   "outputs": [
    {
     "name": "stdout",
     "output_type": "stream",
     "text": [
      "19\n",
      "4\n",
      "5\n",
      "6\n",
      "17\n",
      "51\n"
     ]
    }
   ],
   "source": [
    "sum = 0\n",
    "for ro in osmhandler.roads_with_latlon:\n",
    "    print(len(ro))\n",
    "    sum = sum + len(ro)\n",
    "print(sum)"
   ]
  },
  {
   "cell_type": "code",
   "execution_count": 11,
   "id": "bef5f793-cf7f-44b6-9c4e-f1771b9ffa08",
   "metadata": {},
   "outputs": [
    {
     "data": {
      "text/plain": [
       "[[27,\n",
       "  [<__main__.RoadNode at 0x7f078c1874a8>,\n",
       "   <__main__.RoadNode at 0x7f07377d72e8>,\n",
       "   <__main__.RoadNode at 0x7f078c1876d8>,\n",
       "   <__main__.RoadNode at 0x7f078c187208>,\n",
       "   <__main__.RoadNode at 0x7f078c187898>,\n",
       "   <__main__.RoadNode at 0x7f078c1a3438>,\n",
       "   <__main__.RoadNode at 0x7f078c1a39e8>,\n",
       "   <__main__.RoadNode at 0x7f078c1a38d0>,\n",
       "   <__main__.RoadNode at 0x7f078c1a3710>,\n",
       "   <__main__.RoadNode at 0x7f078c1a3f28>,\n",
       "   <__main__.RoadNode at 0x7f078c1a36d8>,\n",
       "   <__main__.RoadNode at 0x7f078c1a34e0>,\n",
       "   <__main__.RoadNode at 0x7f078c1a3c50>,\n",
       "   <__main__.RoadNode at 0x7f078c1a31d0>,\n",
       "   <__main__.RoadNode at 0x7f078c1a3668>,\n",
       "   <__main__.RoadNode at 0x7f078c1a3d30>,\n",
       "   <__main__.RoadNode at 0x7f078c1a32e8>,\n",
       "   <__main__.RoadNode at 0x7f078c1a3be0>,\n",
       "   <__main__.RoadNode at 0x7f078c1a3780>,\n",
       "   <__main__.RoadNode at 0x7f078c1a3748>,\n",
       "   <__main__.RoadNode at 0x7f078c1a3b38>,\n",
       "   <__main__.RoadNode at 0x7f07377ec860>,\n",
       "   <__main__.RoadNode at 0x7f07377eca58>,\n",
       "   <__main__.RoadNode at 0x7f07377eca90>,\n",
       "   <__main__.RoadNode at 0x7f07377ecac8>,\n",
       "   <__main__.RoadNode at 0x7f07377ecb00>,\n",
       "   <__main__.RoadNode at 0x7f07377ecb38>]]]"
      ]
     },
     "execution_count": 11,
     "metadata": {},
     "output_type": "execute_result"
    }
   ],
   "source": [
    "def fly_drone_to_dest(start, dest):\n",
    "    \n",
    "\n",
    "\n",
    "\n",
    "def instructions_dfs(roadNode, visited, drone_pos):\n",
    "    skip = 0\n",
    "    shortest_time = [len(visited), visited, drone_pos]\n",
    "\n",
    "    \n",
    "    \n",
    "    roadNode.visited = 1\n",
    "    for r in roadNode.nodes:\n",
    "        if r in visited:\n",
    "            skip = skip + 1\n",
    "            continue\n",
    "       \n",
    "        visited = visited + [r]\n",
    "\n",
    "        shortest_time = instructions_dfs(r, visited, drone_pos)\n",
    "\n",
    "    if skip == len(roadNode.nodes) drone_pos = roadNode\n",
    "    return shortest_time\n",
    "    \n",
    "all_dir = []\n",
    "visited = []\n",
    "drone_pos = None\n",
    "for key in road_nodes: \n",
    "    #instructions_dfs return [time, dir_of_cur_start]\n",
    "    if road_nodes[key].visited == 1: \n",
    "        continue\n",
    "    visited = visited + [road_nodes[key]]\n",
    "    drone_pos = road_nodes[key]\n",
    "    list = instructions_dfs(road_nodes[key], visited, drone_pos)\n",
    "    all_dir.append(list)\n",
    "\n",
    "all_dir\n",
    "    \n",
    "    "
   ]
  },
  {
   "cell_type": "code",
   "execution_count": null,
   "id": "a4c298b8-cb8d-4133-b7e7-d7353274ff53",
   "metadata": {},
   "outputs": [],
   "source": []
  }
 ],
 "metadata": {
  "kernelspec": {
   "display_name": "mask_rcnn_tf_2.0",
   "language": "python",
   "name": "mask_rcnn_tf_2.0"
  },
  "language_info": {
   "codemirror_mode": {
    "name": "ipython",
    "version": 3
   },
   "file_extension": ".py",
   "mimetype": "text/x-python",
   "name": "python",
   "nbconvert_exporter": "python",
   "pygments_lexer": "ipython3",
   "version": "3.7.3"
  }
 },
 "nbformat": 4,
 "nbformat_minor": 5
}
