{
 "cells": [
  {
   "cell_type": "code",
   "execution_count": null,
   "id": "2c8f1823-fc91-4d81-a328-49cdb43a9a08",
   "metadata": {},
   "outputs": [],
   "source": [
    "https://docs.osmcode.org/pyosmium/latest/ref_index.html\n",
    "https://osmcode.org/osmium-tool/manual.html\n",
    "https://docs.osmcode.org/osmium/latest/"
   ]
  },
  {
   "cell_type": "code",
   "execution_count": 10,
   "id": "d1216585-cb01-492d-8ba9-77e8db605f2a",
   "metadata": {
    "tags": []
   },
   "outputs": [
    {
     "name": "stdout",
     "output_type": "stream",
     "text": [
      "[{\"geometry\": {\"coordinates\": [], \"type\": \"LineString\"}, \"id\": 6487472, \"properties\": {\"bicycle\": \"designated\", \"cycleway\": \"shared_lane\", \"highway\": \"residential\", \"name\": \"24th Avenue South\", \"tiger:cfcc\": \"A41\", \"tiger:county\": \"King, WA\", \"tiger:name_base\": \"24th\", \"tiger:name_direction_suffix\": \"S\", \"tiger:name_type\": \"Ave\", \"tiger:reviewed\": \"no\"}, \"type\": \"Feature\"}, {\"geometry\": {\"coordinates\": [], \"type\": \"LineString\"}, \"id\": 481289523, \"properties\": {\"highway\": \"residential\", \"name\": \"24th Avenue South\", \"surface\": \"asphalt\", \"tiger:cfcc\": \"A41\", \"tiger:county\": \"King, WA\", \"tiger:name_base\": \"24th\", \"tiger:name_direction_suffix\": \"S\", \"tiger:name_type\": \"Ave\", \"tiger:reviewed\": \"no\"}, \"type\": \"Feature\"}, {\"geometry\": {\"coordinates\": [], \"type\": \"LineString\"}, \"id\": 481289524, \"properties\": {\"highway\": \"residential\", \"name\": \"South Hill Street\", \"tiger:cfcc\": \"A41\", \"tiger:county\": \"King, WA\", \"tiger:name_base\": \"Hill\", \"tiger:name_direction_prefix\": \"S\", \"tiger:name_type\": \"St\"}, \"type\": \"Feature\"}, {\"geometry\": {\"coordinates\": [], \"type\": \"LineString\"}, \"id\": 481289525, \"properties\": {\"bicycle\": \"designated\", \"cycleway\": \"shared_lane\", \"highway\": \"residential\", \"name\": \"South Hill Street\", \"tiger:cfcc\": \"A41\", \"tiger:county\": \"King, WA\", \"tiger:name_base\": \"Hill\", \"tiger:name_direction_prefix\": \"S\", \"tiger:name_type\": \"St\"}, \"type\": \"Feature\"}, {\"geometry\": {\"coordinates\": [], \"type\": \"LineString\"}, \"id\": 481289526, \"properties\": {\"highway\": \"residential\", \"name\": \"25th Avenue South\", \"surface\": \"asphalt\", \"tiger:cfcc\": \"A41\", \"tiger:county\": \"King, WA\", \"tiger:name_base\": \"25th\", \"tiger:name_direction_suffix\": \"S\", \"tiger:name_type\": \"Ave\", \"tiger:reviewed\": \"no\"}, \"type\": \"Feature\"}]\n"
     ]
    }
   ],
   "source": [
    "import osmium as osm\n",
    "import pandas as pd\n",
    "from overpass import API\n",
    "\n",
    "api = API()\n",
    "\n",
    "\n",
    "class OSMHandler(osm.SimpleHandler):\n",
    "    \n",
    "    def __init__(self):\n",
    "        osm.SimpleHandler.__init__(self)\n",
    "        self.osm_data = []\n",
    "        self.address = {'addr:housenumber': '2400', 'addr:postcode': '98144', 'addr:street': 'South Hill Street'}\n",
    "        self.roads_with_latlon = []\n",
    "\n",
    "    def node(self, n):\n",
    "        dict = {}\n",
    "        the_node = 0\n",
    "        for tag in n.tags:\n",
    "            dict[tag.k] = tag.v\n",
    "        for key in self.address:\n",
    "            if key not in dict:\n",
    "                the_node = 1\n",
    "                break\n",
    "            if dict[key] != self.address[key]:\n",
    "                the_node = 1\n",
    "                break\n",
    "        if the_node == 0:\n",
    "            self.lat = n.location.lat\n",
    "            self.lon = n.location.lon\n",
    "            response = api.get('way[\"highway\" =\"residential\"](around:95,{0},{1});'.format(n.location.lat,n.location.lon)) \n",
    "            # print('For location with coordinates {0}, {1} found way IDs:'.format(loc[0],loc[1]))\n",
    "            self.roads = []\n",
    "            print(response.features)\n",
    "            for way in response.features:\n",
    "                self.roads.append(way.id)\n",
    "\n",
    "    def way(self, w):\n",
    "       \n",
    "        if w.id in self.roads:\n",
    "            list = []\n",
    "            # tags = []\n",
    "            for road in w.nodes:\n",
    "                list.append(road)\n",
    "            # for tag in w.tags:\n",
    "            #     tags.append(tag)\n",
    "            # self.roads_with_latlon.append([list, tags])\n",
    "            self.roads_with_latlon.append(list)\n",
    "         # self.osm_data[w.id] =  [nodeList, tagList]\n",
    "        \n",
    "    # def relation(self, r):\n",
    "    #     self.tag_inventory(r, \"relation\")\n",
    "\n",
    "    \n",
    "osmhandler = OSMHandler()\n",
    "# scan the input file and fills the handler list accordingly\n",
    "osmhandler.apply_file(\"../Downloads/map.osm\", locations=True, idx='flex_mem')\n",
    "\n",
    "# transform the list into a pandas DataFrame\n",
    "# data_colnames = ['type', 'id', 'version', 'visible', 'ts', 'uid',\n",
    "#                  'user', 'chgset', 'ntags', 'tagkey', 'tagvalue']\n",
    "# df_osm = pd.DataFrame(osmhandler.osm_data, columns=data_colnames)\n",
    "# osmhandler.roads_with_latlon\n"
   ]
  },
  {
   "cell_type": "code",
   "execution_count": 11,
   "id": "e48a98ff-500b-424a-89aa-9ceb0a044f32",
   "metadata": {},
   "outputs": [
    {
     "data": {
      "text/plain": [
       "[[osmium.osm.NodeRef(ref=53136415, location=osmium.osm.Location(x=-1223015067, y=475869198)),\n",
       "  osmium.osm.NodeRef(ref=5757431543, location=osmium.osm.Location(x=-1223015731, y=475868612)),\n",
       "  osmium.osm.NodeRef(ref=2516369689, location=osmium.osm.Location(x=-1223015896, y=475868466)),\n",
       "  osmium.osm.NodeRef(ref=152010665, location=osmium.osm.Location(x=-1223016159, y=475868093)),\n",
       "  osmium.osm.NodeRef(ref=2516441880, location=osmium.osm.Location(x=-1223016311, y=475867646)),\n",
       "  osmium.osm.NodeRef(ref=9193214107, location=osmium.osm.Location(x=-1223016316, y=475866142)),\n",
       "  osmium.osm.NodeRef(ref=5440359896, location=osmium.osm.Location(x=-1223016323, y=475864945)),\n",
       "  osmium.osm.NodeRef(ref=4799960441, location=osmium.osm.Location(x=-1223016328, y=475863911)),\n",
       "  osmium.osm.NodeRef(ref=6632334769, location=osmium.osm.Location(x=-1223016329, y=475863758)),\n",
       "  osmium.osm.NodeRef(ref=53138092, location=osmium.osm.Location(x=-1223016332, y=475863228)),\n",
       "  osmium.osm.NodeRef(ref=4799960440, location=osmium.osm.Location(x=-1223016341, y=475862734)),\n",
       "  osmium.osm.NodeRef(ref=8416045669, location=osmium.osm.Location(x=-1223016390, y=475858994)),\n",
       "  osmium.osm.NodeRef(ref=4799922610, location=osmium.osm.Location(x=-1223016440, y=475855799)),\n",
       "  osmium.osm.NodeRef(ref=6632334766, location=osmium.osm.Location(x=-1223016433, y=475855437)),\n",
       "  osmium.osm.NodeRef(ref=53148758, location=osmium.osm.Location(x=-1223016422, y=475854927)),\n",
       "  osmium.osm.NodeRef(ref=4799922611, location=osmium.osm.Location(x=-1223016438, y=475854418)),\n",
       "  osmium.osm.NodeRef(ref=8416045670, location=osmium.osm.Location(x=-1223016490, y=475850133)),\n",
       "  osmium.osm.NodeRef(ref=4799922593, location=osmium.osm.Location(x=-1223016568, y=475845848)),\n",
       "  osmium.osm.NodeRef(ref=53232306, location=osmium.osm.Location(x=-1223016580, y=475845040))],\n",
       " [osmium.osm.NodeRef(ref=53232306, location=osmium.osm.Location(x=-1223016580, y=475845040)),\n",
       "  osmium.osm.NodeRef(ref=4799922587, location=osmium.osm.Location(x=-1223016585, y=475844198)),\n",
       "  osmium.osm.NodeRef(ref=4806589034, location=osmium.osm.Location(x=-1223016679, y=475837431)),\n",
       "  osmium.osm.NodeRef(ref=53150019, location=osmium.osm.Location(x=-1223016714, y=475836433))],\n",
       " [osmium.osm.NodeRef(ref=53232306, location=osmium.osm.Location(x=-1223016580, y=475845040)),\n",
       "  osmium.osm.NodeRef(ref=4799922590, location=osmium.osm.Location(x=-1223015205, y=475844988)),\n",
       "  osmium.osm.NodeRef(ref=3663412746, location=osmium.osm.Location(x=-1223009966, y=475844989)),\n",
       "  osmium.osm.NodeRef(ref=4799890424, location=osmium.osm.Location(x=-1223004571, y=475844986)),\n",
       "  osmium.osm.NodeRef(ref=53202700, location=osmium.osm.Location(x=-1223003369, y=475844994))],\n",
       " [osmium.osm.NodeRef(ref=3496255251, location=osmium.osm.Location(x=-1223026403, y=475844869)),\n",
       "  osmium.osm.NodeRef(ref=8374179171, location=osmium.osm.Location(x=-1223024970, y=475845126)),\n",
       "  osmium.osm.NodeRef(ref=3663412752, location=osmium.osm.Location(x=-1223023058, y=475845159)),\n",
       "  osmium.osm.NodeRef(ref=5440360055, location=osmium.osm.Location(x=-1223020202, y=475845135)),\n",
       "  osmium.osm.NodeRef(ref=4799922588, location=osmium.osm.Location(x=-1223017597, y=475845119)),\n",
       "  osmium.osm.NodeRef(ref=53232306, location=osmium.osm.Location(x=-1223016580, y=475845040))],\n",
       " [osmium.osm.NodeRef(ref=9193278956, location=osmium.osm.Location(x=-1223003312, y=475862888)),\n",
       "  osmium.osm.NodeRef(ref=4749150358, location=osmium.osm.Location(x=-1223003299, y=475855448)),\n",
       "  osmium.osm.NodeRef(ref=53148760, location=osmium.osm.Location(x=-1223003311, y=475854915)),\n",
       "  osmium.osm.NodeRef(ref=4749150347, location=osmium.osm.Location(x=-1223003301, y=475854343)),\n",
       "  osmium.osm.NodeRef(ref=4749150346, location=osmium.osm.Location(x=-1223003369, y=475845752)),\n",
       "  osmium.osm.NodeRef(ref=53202700, location=osmium.osm.Location(x=-1223003369, y=475844994)),\n",
       "  osmium.osm.NodeRef(ref=4799890426, location=osmium.osm.Location(x=-1223003379, y=475844420)),\n",
       "  osmium.osm.NodeRef(ref=5440359889, location=osmium.osm.Location(x=-1223003460, y=475838398)),\n",
       "  osmium.osm.NodeRef(ref=4806588812, location=osmium.osm.Location(x=-1223003426, y=475837205)),\n",
       "  osmium.osm.NodeRef(ref=53150020, location=osmium.osm.Location(x=-1223003395, y=475836413)),\n",
       "  osmium.osm.NodeRef(ref=53202701, location=osmium.osm.Location(x=-1223003349, y=475829438)),\n",
       "  osmium.osm.NodeRef(ref=5440208574, location=osmium.osm.Location(x=-1223003352, y=475822186)),\n",
       "  osmium.osm.NodeRef(ref=9491918721, location=osmium.osm.Location(x=-1223003353, y=475820342)),\n",
       "  osmium.osm.NodeRef(ref=2049270167, location=osmium.osm.Location(x=-1223003474, y=475817572)),\n",
       "  osmium.osm.NodeRef(ref=151942828, location=osmium.osm.Location(x=-1223003488, y=475816616)),\n",
       "  osmium.osm.NodeRef(ref=9561154999, location=osmium.osm.Location(x=-1223004250, y=475816002)),\n",
       "  osmium.osm.NodeRef(ref=9561154997, location=osmium.osm.Location(x=-1223005549, y=475815591))]]"
      ]
     },
     "execution_count": 11,
     "metadata": {},
     "output_type": "execute_result"
    }
   ],
   "source": [
    "osmhandler.roads_with_latlon "
   ]
  },
  {
   "cell_type": "code",
   "execution_count": 37,
   "id": "b8d6262f-7890-4d50-846e-43fea9c90874",
   "metadata": {},
   "outputs": [
    {
     "name": "stdout",
     "output_type": "stream",
     "text": [
      "0.0027115999999978158\n",
      "0.0027193999999965968\n",
      "0.002721299999997484\n",
      "0.0027102999999968347\n",
      "0.0026807999999931553\n",
      "0.0025308999999893445\n",
      "0.0024118999999913626\n",
      "0.0023089999999896804\n",
      "0.002293799999996793\n",
      "0.0022410999999920023\n",
      "0.002192600000000766\n",
      "0.0018234999999933166\n",
      "0.0015089999999915449\n",
      "0.001472099999993759\n",
      "0.0014200000000030855\n",
      "0.0013706999999882896\n",
      "0.0009473999999940474\n",
      "0.0005988999999928524\n",
      "0.0006808999999918797\n",
      "0.0006808999999918797\n",
      "0.0007655999999940377\n",
      "0.0014516999999898417\n",
      "0.0015549999999961983\n",
      "0.0006808999999918797\n",
      "0.0005485999999876867\n",
      "0.0002193999999988705\n",
      "0.0007591999999974064\n",
      "0.0008786000000000627\n",
      "0.0016802999999825374\n",
      "0.0015112999999971066\n",
      "0.001316799999990792\n",
      "0.0010335999999924184\n",
      "0.0007746999999937998\n",
      "0.0006808999999918797\n",
      "0.002430700000005004\n",
      "0.001688000000015677\n",
      "0.0016335000000182731\n",
      "0.0015773000000152138\n",
      "0.0008027999999953295\n",
      "0.0008786000000000627\n",
      "0.0009349999999983538\n",
      "0.0015290999999990618\n",
      "0.0016518000000118604\n",
      "0.0017341000000001827\n",
      "0.0024362000000053285\n",
      "0.0031610999999998057\n",
      "0.003345400000000609\n",
      "0.00361029999999829\n",
      "0.00370450000001199\n",
      "0.0036897000000024605\n",
      "0.003600900000009233\n"
     ]
    }
   ],
   "source": [
    "class RoadNode:\n",
    "    def __init__(self, r):\n",
    "        # self.visited = 0\n",
    "        self.nodes = []\n",
    "        self.intersection = 0\n",
    "        if r != None:\n",
    "            self.ref = r.ref\n",
    "            self.lat = r.location.lat\n",
    "            self.lon = r.location.lon\n",
    "        else:\n",
    "            self.ref = None\n",
    "            self.lat = None\n",
    "            self.lon = None\n",
    "    def addNode(self, node):\n",
    "        self.nodes = self.nodes + [node]\n",
    "\n",
    "        \n",
    "\n",
    "\n",
    "#if a road is connected (meaning one road contains a ref of another road), the road is now one big road consisting of the smaller roads\n",
    "\n",
    "#the algo calculates routes at each point then pick the route with the shortest time to complete\n",
    "road_nodes = {}\n",
    "# drone_location = [osmhandler.lat, osmhandler.lon]\n",
    "starting_point = None\n",
    "length = 0\n",
    "\n",
    "for roadds in osmhandler.roads_with_latlon:\n",
    "    prev_node = None\n",
    "\n",
    "    for road in roadds:\n",
    "        y = abs(road.location.lat - osmhandler.lat)\n",
    "        x = abs(road.location.lon - osmhandler.lon)\n",
    "        distance = x + y\n",
    "        print(distance)\n",
    "        if starting_point == None:\n",
    "            starting_point = [distance, road]\n",
    "        elif starting_point[0] > distance:\n",
    "            starting_point = [distance, road]\n",
    "            \n",
    "        #inserting to road_nodes dict.\n",
    "        if prev_node == None:\n",
    "            if road.ref in road_nodes:\n",
    "                prev_node = road_nodes[road.ref]\n",
    "            else:\n",
    "                node = RoadNode(road) \n",
    "                prev_node = node\n",
    "                road_nodes[road.ref] = node\n",
    "            # road_node = road_nodes[road.ref]\n",
    "\n",
    "            # prev_node.addNode(road_node)\n",
    "            # road_node.addNode(prev_node)\n",
    "                \n",
    "            # prev_node = road_node\n",
    "            # if prev_node.ref != None and prev_node.ref != road.ref:    \n",
    "            \n",
    "        else:\n",
    "            length = length + 1\n",
    "            \n",
    "            if road.ref in road_nodes:\n",
    "                node = road_nodes[road.ref]\n",
    "            else:\n",
    "                node = RoadNode(road)      \n",
    "                road_nodes[road.ref] = node\n",
    "            \n",
    "            \n",
    "            node.addNode(prev_node)\n",
    "            \n",
    "            prev_node.addNode(node)\n",
    "            \n",
    "            prev_node = node\n",
    "\n",
    "for key in road_nodes:\n",
    "    if len(road_nodes[key].nodes) > 2:\n",
    "        road_nodes[key].intersection = 1\n",
    "\n",
    "\n",
    "\n",
    "        "
   ]
  },
  {
   "cell_type": "code",
   "execution_count": 38,
   "id": "cf47689d-6e90-43f8-a6ff-80de098a6454",
   "metadata": {},
   "outputs": [
    {
     "name": "stdout",
     "output_type": "stream",
     "text": [
      "[0.0002193999999988705, osmium.osm.NodeRef(ref=3663412746, location=osmium.osm.Location(x=-1223009966, y=475844989))]\n"
     ]
    }
   ],
   "source": [
    "print(starting_point)"
   ]
  },
  {
   "cell_type": "code",
   "execution_count": 39,
   "id": "bef5f793-cf7f-44b6-9c4e-f1771b9ffa08",
   "metadata": {
    "scrolled": true
   },
   "outputs": [],
   "source": [
    "# def fly_drone_to_dest(start, dest, visited):\n",
    "#     start = 0\n",
    "#     end = 0\n",
    "#     for i, r in enumerate(visited):\n",
    "#         if r == start:\n",
    "#             start = i\n",
    "#         elif r == dest:\n",
    "#             end = i\n",
    "#     path = []\n",
    "#     if start > end:\n",
    "#         for i in range(start, end, -1):\n",
    "#             path.append(visited[i])\n",
    "#     else:\n",
    "#         path = visited[start:end]\n",
    "#     return path\n",
    "\n",
    "def instructions_dfs(roadNode, visited, intersection_point):\n",
    "    \n",
    "    visited = visited + [roadNode]\n",
    "\n",
    "    if roadNode.intersection == 1:\n",
    "        intersection = roadNode\n",
    "    else:\n",
    "        intersection = intersection_point\n",
    "    \n",
    "    for r in roadNode.nodes:\n",
    "        if r in visited:\n",
    "            continue\n",
    "        \n",
    "        visited = instructions_dfs(r, visited, intersection)\n",
    "        \n",
    "        if intersection_point != None or roadNode.intersection == 1:\n",
    "            visited = visited + [roadNode]\n",
    "\n",
    "    return visited\n",
    "     \n",
    "all_dir = []\n",
    "\n",
    "# for key in road_nodes: \n",
    "#     \n",
    "#     if road_nodes[key] in visited: \n",
    "#         continue\n",
    "#     # visited = visited + [road_nodes[key]]\n",
    "#     list = instructions_dfs(road_nodes[key], visited, road_nodes[key])\n",
    "#     all_dir.append(list)\n",
    "\n",
    "visited = []\n",
    "for node in road_nodes[starting_point[1].ref].nodes:\n",
    "    list = instructions_dfs(road_nodes[starting_point[1].ref], visited, road_nodes[starting_point[1].ref])\n",
    "    if len(list) > length:\n",
    "        all_dir = all_dir + [list]\n",
    "    "
   ]
  },
  {
   "cell_type": "code",
   "execution_count": 40,
   "id": "07ab8a83-2a59-4b1b-a0d9-fabc66806f44",
   "metadata": {},
   "outputs": [],
   "source": [
    "smallest_route = None\n",
    "for route in all_dir:\n",
    "    if smallest_route == None:\n",
    "        smallest_route = route\n",
    "    elif len(smallest_route) > len(route):\n",
    "        smallest_route = route\n",
    "\n",
    "storeable_smallest_route = []\n",
    "for route in smallest_route:\n",
    "    storeable_smallest_route.append([route.lon, route.lat])\n"
   ]
  },
  {
   "cell_type": "code",
   "execution_count": null,
   "id": "19c76600-5d65-4aa6-ab99-6caf29cf7a80",
   "metadata": {},
   "outputs": [],
   "source": [
    "https://stackoverflow.com/questions/35935670/share-variables-between-different-jupyter-notebooks"
   ]
  },
  {
   "cell_type": "code",
   "execution_count": 41,
   "id": "f355d9be-a26c-443f-b430-9a74d48f54e5",
   "metadata": {},
   "outputs": [
    {
     "name": "stdout",
     "output_type": "stream",
     "text": [
      "Stored 'storeable_smallest_route' (list)\n"
     ]
    }
   ],
   "source": [
    "%store storeable_smallest_route\n"
   ]
  },
  {
   "cell_type": "code",
   "execution_count": 32,
   "id": "e6e7f39c-c8a9-4a53-9e0d-19e7a33d7634",
   "metadata": {},
   "outputs": [],
   "source": [
    "# starting_point = [starting_point[1].location.lat, starting_point[1].location.lon]\n",
    "# %store starting_point"
   ]
  },
  {
   "cell_type": "code",
   "execution_count": 42,
   "id": "d66ecdaf-ad78-4b99-9b9d-dee04b3c11ec",
   "metadata": {},
   "outputs": [
    {
     "name": "stdout",
     "output_type": "stream",
     "text": [
      "Stored variables and their in-db values:\n",
      "starting_point                       -> [47.5844989, -122.3009966]\n",
      "storeable_smallest_route             -> [[-122.3009966, 47.5844989], [-122.3015205, 47.584\n"
     ]
    }
   ],
   "source": [
    "%store"
   ]
  }
 ],
 "metadata": {
  "kernelspec": {
   "display_name": "mask_rcnn_tf_2.0",
   "language": "python",
   "name": "mask_rcnn_tf_2.0"
  },
  "language_info": {
   "codemirror_mode": {
    "name": "ipython",
    "version": 3
   },
   "file_extension": ".py",
   "mimetype": "text/x-python",
   "name": "python",
   "nbconvert_exporter": "python",
   "pygments_lexer": "ipython3",
   "version": "3.7.3"
  }
 },
 "nbformat": 4,
 "nbformat_minor": 5
}
