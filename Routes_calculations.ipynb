{
 "cells": [
  {
   "cell_type": "code",
   "execution_count": null,
   "id": "2c8f1823-fc91-4d81-a328-49cdb43a9a08",
   "metadata": {},
   "outputs": [],
   "source": [
    "https://docs.osmcode.org/pyosmium/latest/ref_index.html\n",
    "https://osmcode.org/osmium-tool/manual.html\n",
    "https://docs.osmcode.org/osmium/latest/"
   ]
  },
  {
   "cell_type": "code",
   "execution_count": 18,
   "id": "d1216585-cb01-492d-8ba9-77e8db605f2a",
   "metadata": {
    "tags": []
   },
   "outputs": [
    {
     "ename": "ConnectionError",
     "evalue": "HTTPSConnectionPool(host='overpass-api.de', port=443): Max retries exceeded with url: /api/interpreter (Caused by NameResolutionError(\"<urllib3.connection.HTTPSConnection object at 0x7f9c3e3f26d8>: Failed to resolve 'overpass-api.de' ([Errno -3] Temporary failure in name resolution)\"))",
     "output_type": "error",
     "traceback": [
      "\u001b[0;31m---------------------------------------------------------------------------\u001b[0m",
      "\u001b[0;31mgaierror\u001b[0m                                  Traceback (most recent call last)",
      "\u001b[0;32m~/anaconda3/envs/maskrcnn/lib/python3.7/site-packages/urllib3/connection.py\u001b[0m in \u001b[0;36m_new_conn\u001b[0;34m(self)\u001b[0m\n\u001b[1;32m    206\u001b[0m                 \u001b[0msource_address\u001b[0m\u001b[0;34m=\u001b[0m\u001b[0mself\u001b[0m\u001b[0;34m.\u001b[0m\u001b[0msource_address\u001b[0m\u001b[0;34m,\u001b[0m\u001b[0;34m\u001b[0m\u001b[0;34m\u001b[0m\u001b[0m\n\u001b[0;32m--> 207\u001b[0;31m                 \u001b[0msocket_options\u001b[0m\u001b[0;34m=\u001b[0m\u001b[0mself\u001b[0m\u001b[0;34m.\u001b[0m\u001b[0msocket_options\u001b[0m\u001b[0;34m,\u001b[0m\u001b[0;34m\u001b[0m\u001b[0;34m\u001b[0m\u001b[0m\n\u001b[0m\u001b[1;32m    208\u001b[0m             )\n",
      "\u001b[0;32m~/anaconda3/envs/maskrcnn/lib/python3.7/site-packages/urllib3/util/connection.py\u001b[0m in \u001b[0;36mcreate_connection\u001b[0;34m(address, timeout, source_address, socket_options)\u001b[0m\n\u001b[1;32m     59\u001b[0m \u001b[0;34m\u001b[0m\u001b[0m\n\u001b[0;32m---> 60\u001b[0;31m     \u001b[0;32mfor\u001b[0m \u001b[0mres\u001b[0m \u001b[0;32min\u001b[0m \u001b[0msocket\u001b[0m\u001b[0;34m.\u001b[0m\u001b[0mgetaddrinfo\u001b[0m\u001b[0;34m(\u001b[0m\u001b[0mhost\u001b[0m\u001b[0;34m,\u001b[0m \u001b[0mport\u001b[0m\u001b[0;34m,\u001b[0m \u001b[0mfamily\u001b[0m\u001b[0;34m,\u001b[0m \u001b[0msocket\u001b[0m\u001b[0;34m.\u001b[0m\u001b[0mSOCK_STREAM\u001b[0m\u001b[0;34m)\u001b[0m\u001b[0;34m:\u001b[0m\u001b[0;34m\u001b[0m\u001b[0;34m\u001b[0m\u001b[0m\n\u001b[0m\u001b[1;32m     61\u001b[0m         \u001b[0maf\u001b[0m\u001b[0;34m,\u001b[0m \u001b[0msocktype\u001b[0m\u001b[0;34m,\u001b[0m \u001b[0mproto\u001b[0m\u001b[0;34m,\u001b[0m \u001b[0mcanonname\u001b[0m\u001b[0;34m,\u001b[0m \u001b[0msa\u001b[0m \u001b[0;34m=\u001b[0m \u001b[0mres\u001b[0m\u001b[0;34m\u001b[0m\u001b[0;34m\u001b[0m\u001b[0m\n",
      "\u001b[0;32m~/anaconda3/envs/maskrcnn/lib/python3.7/socket.py\u001b[0m in \u001b[0;36mgetaddrinfo\u001b[0;34m(host, port, family, type, proto, flags)\u001b[0m\n\u001b[1;32m    747\u001b[0m     \u001b[0maddrlist\u001b[0m \u001b[0;34m=\u001b[0m \u001b[0;34m[\u001b[0m\u001b[0;34m]\u001b[0m\u001b[0;34m\u001b[0m\u001b[0;34m\u001b[0m\u001b[0m\n\u001b[0;32m--> 748\u001b[0;31m     \u001b[0;32mfor\u001b[0m \u001b[0mres\u001b[0m \u001b[0;32min\u001b[0m \u001b[0m_socket\u001b[0m\u001b[0;34m.\u001b[0m\u001b[0mgetaddrinfo\u001b[0m\u001b[0;34m(\u001b[0m\u001b[0mhost\u001b[0m\u001b[0;34m,\u001b[0m \u001b[0mport\u001b[0m\u001b[0;34m,\u001b[0m \u001b[0mfamily\u001b[0m\u001b[0;34m,\u001b[0m \u001b[0mtype\u001b[0m\u001b[0;34m,\u001b[0m \u001b[0mproto\u001b[0m\u001b[0;34m,\u001b[0m \u001b[0mflags\u001b[0m\u001b[0;34m)\u001b[0m\u001b[0;34m:\u001b[0m\u001b[0;34m\u001b[0m\u001b[0;34m\u001b[0m\u001b[0m\n\u001b[0m\u001b[1;32m    749\u001b[0m         \u001b[0maf\u001b[0m\u001b[0;34m,\u001b[0m \u001b[0msocktype\u001b[0m\u001b[0;34m,\u001b[0m \u001b[0mproto\u001b[0m\u001b[0;34m,\u001b[0m \u001b[0mcanonname\u001b[0m\u001b[0;34m,\u001b[0m \u001b[0msa\u001b[0m \u001b[0;34m=\u001b[0m \u001b[0mres\u001b[0m\u001b[0;34m\u001b[0m\u001b[0;34m\u001b[0m\u001b[0m\n",
      "\u001b[0;31mgaierror\u001b[0m: [Errno -3] Temporary failure in name resolution",
      "\nThe above exception was the direct cause of the following exception:\n",
      "\u001b[0;31mNameResolutionError\u001b[0m                       Traceback (most recent call last)",
      "\u001b[0;32m~/anaconda3/envs/maskrcnn/lib/python3.7/site-packages/urllib3/connectionpool.py\u001b[0m in \u001b[0;36murlopen\u001b[0;34m(self, method, url, body, headers, retries, redirect, assert_same_host, timeout, pool_timeout, release_conn, chunked, body_pos, preload_content, decode_content, **response_kw)\u001b[0m\n\u001b[1;32m    801\u001b[0m                 \u001b[0mdecode_content\u001b[0m\u001b[0;34m=\u001b[0m\u001b[0mdecode_content\u001b[0m\u001b[0;34m,\u001b[0m\u001b[0;34m\u001b[0m\u001b[0;34m\u001b[0m\u001b[0m\n\u001b[0;32m--> 802\u001b[0;31m                 \u001b[0;34m**\u001b[0m\u001b[0mresponse_kw\u001b[0m\u001b[0;34m,\u001b[0m\u001b[0;34m\u001b[0m\u001b[0;34m\u001b[0m\u001b[0m\n\u001b[0m\u001b[1;32m    803\u001b[0m             )\n",
      "\u001b[0;32m~/anaconda3/envs/maskrcnn/lib/python3.7/site-packages/urllib3/connectionpool.py\u001b[0m in \u001b[0;36m_make_request\u001b[0;34m(self, conn, method, url, body, headers, retries, timeout, chunked, response_conn, preload_content, decode_content, enforce_content_length)\u001b[0m\n\u001b[1;32m    490\u001b[0m                 \u001b[0mnew_e\u001b[0m \u001b[0;34m=\u001b[0m \u001b[0m_wrap_proxy_error\u001b[0m\u001b[0;34m(\u001b[0m\u001b[0mnew_e\u001b[0m\u001b[0;34m,\u001b[0m \u001b[0mconn\u001b[0m\u001b[0;34m.\u001b[0m\u001b[0mproxy\u001b[0m\u001b[0;34m.\u001b[0m\u001b[0mscheme\u001b[0m\u001b[0;34m)\u001b[0m\u001b[0;34m\u001b[0m\u001b[0;34m\u001b[0m\u001b[0m\n\u001b[0;32m--> 491\u001b[0;31m             \u001b[0;32mraise\u001b[0m \u001b[0mnew_e\u001b[0m\u001b[0;34m\u001b[0m\u001b[0;34m\u001b[0m\u001b[0m\n\u001b[0m\u001b[1;32m    492\u001b[0m \u001b[0;34m\u001b[0m\u001b[0m\n",
      "\u001b[0;32m~/anaconda3/envs/maskrcnn/lib/python3.7/site-packages/urllib3/connectionpool.py\u001b[0m in \u001b[0;36m_make_request\u001b[0;34m(self, conn, method, url, body, headers, retries, timeout, chunked, response_conn, preload_content, decode_content, enforce_content_length)\u001b[0m\n\u001b[1;32m    466\u001b[0m             \u001b[0;32mtry\u001b[0m\u001b[0;34m:\u001b[0m\u001b[0;34m\u001b[0m\u001b[0;34m\u001b[0m\u001b[0m\n\u001b[0;32m--> 467\u001b[0;31m                 \u001b[0mself\u001b[0m\u001b[0;34m.\u001b[0m\u001b[0m_validate_conn\u001b[0m\u001b[0;34m(\u001b[0m\u001b[0mconn\u001b[0m\u001b[0;34m)\u001b[0m\u001b[0;34m\u001b[0m\u001b[0;34m\u001b[0m\u001b[0m\n\u001b[0m\u001b[1;32m    468\u001b[0m             \u001b[0;32mexcept\u001b[0m \u001b[0;34m(\u001b[0m\u001b[0mSocketTimeout\u001b[0m\u001b[0;34m,\u001b[0m \u001b[0mBaseSSLError\u001b[0m\u001b[0;34m)\u001b[0m \u001b[0;32mas\u001b[0m \u001b[0me\u001b[0m\u001b[0;34m:\u001b[0m\u001b[0;34m\u001b[0m\u001b[0;34m\u001b[0m\u001b[0m\n",
      "\u001b[0;32m~/anaconda3/envs/maskrcnn/lib/python3.7/site-packages/urllib3/connectionpool.py\u001b[0m in \u001b[0;36m_validate_conn\u001b[0;34m(self, conn)\u001b[0m\n\u001b[1;32m   1091\u001b[0m         \u001b[0;32mif\u001b[0m \u001b[0mconn\u001b[0m\u001b[0;34m.\u001b[0m\u001b[0mis_closed\u001b[0m\u001b[0;34m:\u001b[0m\u001b[0;34m\u001b[0m\u001b[0;34m\u001b[0m\u001b[0m\n\u001b[0;32m-> 1092\u001b[0;31m             \u001b[0mconn\u001b[0m\u001b[0;34m.\u001b[0m\u001b[0mconnect\u001b[0m\u001b[0;34m(\u001b[0m\u001b[0;34m)\u001b[0m\u001b[0;34m\u001b[0m\u001b[0;34m\u001b[0m\u001b[0m\n\u001b[0m\u001b[1;32m   1093\u001b[0m \u001b[0;34m\u001b[0m\u001b[0m\n",
      "\u001b[0;32m~/anaconda3/envs/maskrcnn/lib/python3.7/site-packages/urllib3/connection.py\u001b[0m in \u001b[0;36mconnect\u001b[0;34m(self)\u001b[0m\n\u001b[1;32m    610\u001b[0m         \u001b[0msock\u001b[0m\u001b[0;34m:\u001b[0m \u001b[0msocket\u001b[0m\u001b[0;34m.\u001b[0m\u001b[0msocket\u001b[0m \u001b[0;34m|\u001b[0m \u001b[0mssl\u001b[0m\u001b[0;34m.\u001b[0m\u001b[0mSSLSocket\u001b[0m\u001b[0;34m\u001b[0m\u001b[0;34m\u001b[0m\u001b[0m\n\u001b[0;32m--> 611\u001b[0;31m         \u001b[0mself\u001b[0m\u001b[0;34m.\u001b[0m\u001b[0msock\u001b[0m \u001b[0;34m=\u001b[0m \u001b[0msock\u001b[0m \u001b[0;34m=\u001b[0m \u001b[0mself\u001b[0m\u001b[0;34m.\u001b[0m\u001b[0m_new_conn\u001b[0m\u001b[0;34m(\u001b[0m\u001b[0;34m)\u001b[0m\u001b[0;34m\u001b[0m\u001b[0;34m\u001b[0m\u001b[0m\n\u001b[0m\u001b[1;32m    612\u001b[0m         \u001b[0mserver_hostname\u001b[0m\u001b[0;34m:\u001b[0m \u001b[0mstr\u001b[0m \u001b[0;34m=\u001b[0m \u001b[0mself\u001b[0m\u001b[0;34m.\u001b[0m\u001b[0mhost\u001b[0m\u001b[0;34m\u001b[0m\u001b[0;34m\u001b[0m\u001b[0m\n",
      "\u001b[0;32m~/anaconda3/envs/maskrcnn/lib/python3.7/site-packages/urllib3/connection.py\u001b[0m in \u001b[0;36m_new_conn\u001b[0;34m(self)\u001b[0m\n\u001b[1;32m    209\u001b[0m         \u001b[0;32mexcept\u001b[0m \u001b[0msocket\u001b[0m\u001b[0;34m.\u001b[0m\u001b[0mgaierror\u001b[0m \u001b[0;32mas\u001b[0m \u001b[0me\u001b[0m\u001b[0;34m:\u001b[0m\u001b[0;34m\u001b[0m\u001b[0;34m\u001b[0m\u001b[0m\n\u001b[0;32m--> 210\u001b[0;31m             \u001b[0;32mraise\u001b[0m \u001b[0mNameResolutionError\u001b[0m\u001b[0;34m(\u001b[0m\u001b[0mself\u001b[0m\u001b[0;34m.\u001b[0m\u001b[0mhost\u001b[0m\u001b[0;34m,\u001b[0m \u001b[0mself\u001b[0m\u001b[0;34m,\u001b[0m \u001b[0me\u001b[0m\u001b[0;34m)\u001b[0m \u001b[0;32mfrom\u001b[0m \u001b[0me\u001b[0m\u001b[0;34m\u001b[0m\u001b[0;34m\u001b[0m\u001b[0m\n\u001b[0m\u001b[1;32m    211\u001b[0m         \u001b[0;32mexcept\u001b[0m \u001b[0mSocketTimeout\u001b[0m \u001b[0;32mas\u001b[0m \u001b[0me\u001b[0m\u001b[0;34m:\u001b[0m\u001b[0;34m\u001b[0m\u001b[0;34m\u001b[0m\u001b[0m\n",
      "\u001b[0;31mNameResolutionError\u001b[0m: <urllib3.connection.HTTPSConnection object at 0x7f9c3e3f26d8>: Failed to resolve 'overpass-api.de' ([Errno -3] Temporary failure in name resolution)",
      "\nThe above exception was the direct cause of the following exception:\n",
      "\u001b[0;31mMaxRetryError\u001b[0m                             Traceback (most recent call last)",
      "\u001b[0;32m~/anaconda3/envs/maskrcnn/lib/python3.7/site-packages/requests/adapters.py\u001b[0m in \u001b[0;36msend\u001b[0;34m(self, request, stream, timeout, verify, cert, proxies)\u001b[0m\n\u001b[1;32m    496\u001b[0m                 \u001b[0mtimeout\u001b[0m\u001b[0;34m=\u001b[0m\u001b[0mtimeout\u001b[0m\u001b[0;34m,\u001b[0m\u001b[0;34m\u001b[0m\u001b[0;34m\u001b[0m\u001b[0m\n\u001b[0;32m--> 497\u001b[0;31m                 \u001b[0mchunked\u001b[0m\u001b[0;34m=\u001b[0m\u001b[0mchunked\u001b[0m\u001b[0;34m,\u001b[0m\u001b[0;34m\u001b[0m\u001b[0;34m\u001b[0m\u001b[0m\n\u001b[0m\u001b[1;32m    498\u001b[0m             )\n",
      "\u001b[0;32m~/anaconda3/envs/maskrcnn/lib/python3.7/site-packages/urllib3/connectionpool.py\u001b[0m in \u001b[0;36murlopen\u001b[0;34m(self, method, url, body, headers, retries, redirect, assert_same_host, timeout, pool_timeout, release_conn, chunked, body_pos, preload_content, decode_content, **response_kw)\u001b[0m\n\u001b[1;32m    844\u001b[0m             retries = retries.increment(\n\u001b[0;32m--> 845\u001b[0;31m                 \u001b[0mmethod\u001b[0m\u001b[0;34m,\u001b[0m \u001b[0murl\u001b[0m\u001b[0;34m,\u001b[0m \u001b[0merror\u001b[0m\u001b[0;34m=\u001b[0m\u001b[0mnew_e\u001b[0m\u001b[0;34m,\u001b[0m \u001b[0m_pool\u001b[0m\u001b[0;34m=\u001b[0m\u001b[0mself\u001b[0m\u001b[0;34m,\u001b[0m \u001b[0m_stacktrace\u001b[0m\u001b[0;34m=\u001b[0m\u001b[0msys\u001b[0m\u001b[0;34m.\u001b[0m\u001b[0mexc_info\u001b[0m\u001b[0;34m(\u001b[0m\u001b[0;34m)\u001b[0m\u001b[0;34m[\u001b[0m\u001b[0;36m2\u001b[0m\u001b[0;34m]\u001b[0m\u001b[0;34m\u001b[0m\u001b[0;34m\u001b[0m\u001b[0m\n\u001b[0m\u001b[1;32m    846\u001b[0m             )\n",
      "\u001b[0;32m~/anaconda3/envs/maskrcnn/lib/python3.7/site-packages/urllib3/util/retry.py\u001b[0m in \u001b[0;36mincrement\u001b[0;34m(self, method, url, response, error, _pool, _stacktrace)\u001b[0m\n\u001b[1;32m    514\u001b[0m             \u001b[0mreason\u001b[0m \u001b[0;34m=\u001b[0m \u001b[0merror\u001b[0m \u001b[0;32mor\u001b[0m \u001b[0mResponseError\u001b[0m\u001b[0;34m(\u001b[0m\u001b[0mcause\u001b[0m\u001b[0;34m)\u001b[0m\u001b[0;34m\u001b[0m\u001b[0;34m\u001b[0m\u001b[0m\n\u001b[0;32m--> 515\u001b[0;31m             \u001b[0;32mraise\u001b[0m \u001b[0mMaxRetryError\u001b[0m\u001b[0;34m(\u001b[0m\u001b[0m_pool\u001b[0m\u001b[0;34m,\u001b[0m \u001b[0murl\u001b[0m\u001b[0;34m,\u001b[0m \u001b[0mreason\u001b[0m\u001b[0;34m)\u001b[0m \u001b[0;32mfrom\u001b[0m \u001b[0mreason\u001b[0m  \u001b[0;31m# type: ignore[arg-type]\u001b[0m\u001b[0;34m\u001b[0m\u001b[0;34m\u001b[0m\u001b[0m\n\u001b[0m\u001b[1;32m    516\u001b[0m \u001b[0;34m\u001b[0m\u001b[0m\n",
      "\u001b[0;31mMaxRetryError\u001b[0m: HTTPSConnectionPool(host='overpass-api.de', port=443): Max retries exceeded with url: /api/interpreter (Caused by NameResolutionError(\"<urllib3.connection.HTTPSConnection object at 0x7f9c3e3f26d8>: Failed to resolve 'overpass-api.de' ([Errno -3] Temporary failure in name resolution)\"))",
      "\nDuring handling of the above exception, another exception occurred:\n",
      "\u001b[0;31mConnectionError\u001b[0m                           Traceback (most recent call last)",
      "\u001b[0;32m/tmp/ipykernel_929/3330658032.py\u001b[0m in \u001b[0;36m<module>\u001b[0;34m\u001b[0m\n\u001b[1;32m      8\u001b[0m \u001b[0mstarting_lat\u001b[0m \u001b[0;34m=\u001b[0m \u001b[0;36m47.5846209\u001b[0m\u001b[0;34m\u001b[0m\u001b[0;34m\u001b[0m\u001b[0m\n\u001b[1;32m      9\u001b[0m \u001b[0mstarting_lon\u001b[0m \u001b[0;34m=\u001b[0m \u001b[0;34m-\u001b[0m\u001b[0;36m122.3010940\u001b[0m\u001b[0;34m\u001b[0m\u001b[0;34m\u001b[0m\u001b[0m\n\u001b[0;32m---> 10\u001b[0;31m \u001b[0mroads_response\u001b[0m \u001b[0;34m=\u001b[0m \u001b[0mapi\u001b[0m\u001b[0;34m.\u001b[0m\u001b[0mget\u001b[0m\u001b[0;34m(\u001b[0m\u001b[0;34m'way[\"highway\" =\"residential\"](around:50,{0},{1});'\u001b[0m\u001b[0;34m.\u001b[0m\u001b[0mformat\u001b[0m\u001b[0;34m(\u001b[0m\u001b[0mstarting_lat\u001b[0m\u001b[0;34m,\u001b[0m\u001b[0mstarting_lon\u001b[0m\u001b[0;34m)\u001b[0m\u001b[0;34m)\u001b[0m\u001b[0;34m\u001b[0m\u001b[0;34m\u001b[0m\u001b[0m\n\u001b[0m\u001b[1;32m     11\u001b[0m \u001b[0mbuildings_response\u001b[0m \u001b[0;34m=\u001b[0m \u001b[0mapi\u001b[0m\u001b[0;34m.\u001b[0m\u001b[0mget\u001b[0m\u001b[0;34m(\u001b[0m\u001b[0;34m'way[\"building\"=\"yes\"](around:50,{0},{1});'\u001b[0m\u001b[0;34m.\u001b[0m\u001b[0mformat\u001b[0m\u001b[0;34m(\u001b[0m\u001b[0mstarting_lat\u001b[0m\u001b[0;34m,\u001b[0m\u001b[0mstarting_lon\u001b[0m\u001b[0;34m)\u001b[0m\u001b[0;34m)\u001b[0m\u001b[0;34m\u001b[0m\u001b[0;34m\u001b[0m\u001b[0m\n\u001b[1;32m     12\u001b[0m \u001b[0mtrees_response\u001b[0m \u001b[0;34m=\u001b[0m \u001b[0mapi\u001b[0m\u001b[0;34m.\u001b[0m\u001b[0mget\u001b[0m\u001b[0;34m(\u001b[0m\u001b[0;34m'node[\"natural\"=\"tree\"](around:50,{0},{1});'\u001b[0m\u001b[0;34m.\u001b[0m\u001b[0mformat\u001b[0m\u001b[0;34m(\u001b[0m\u001b[0mstarting_lat\u001b[0m\u001b[0;34m,\u001b[0m\u001b[0mstarting_lon\u001b[0m\u001b[0;34m)\u001b[0m\u001b[0;34m)\u001b[0m\u001b[0;34m\u001b[0m\u001b[0;34m\u001b[0m\u001b[0m\n",
      "\u001b[0;32m~/anaconda3/envs/maskrcnn/lib/python3.7/site-packages/overpass/api.py\u001b[0m in \u001b[0;36mget\u001b[0;34m(self, query, responseformat, verbosity, build)\u001b[0m\n\u001b[1;32m     95\u001b[0m \u001b[0;34m\u001b[0m\u001b[0m\n\u001b[1;32m     96\u001b[0m         \u001b[0;31m# Get the response from Overpass\u001b[0m\u001b[0;34m\u001b[0m\u001b[0;34m\u001b[0m\u001b[0;34m\u001b[0m\u001b[0m\n\u001b[0;32m---> 97\u001b[0;31m         \u001b[0mr\u001b[0m \u001b[0;34m=\u001b[0m \u001b[0mself\u001b[0m\u001b[0;34m.\u001b[0m\u001b[0m_get_from_overpass\u001b[0m\u001b[0;34m(\u001b[0m\u001b[0mfull_query\u001b[0m\u001b[0;34m)\u001b[0m\u001b[0;34m\u001b[0m\u001b[0;34m\u001b[0m\u001b[0m\n\u001b[0m\u001b[1;32m     98\u001b[0m         \u001b[0mcontent_type\u001b[0m \u001b[0;34m=\u001b[0m \u001b[0mr\u001b[0m\u001b[0;34m.\u001b[0m\u001b[0mheaders\u001b[0m\u001b[0;34m.\u001b[0m\u001b[0mget\u001b[0m\u001b[0;34m(\u001b[0m\u001b[0;34m\"content-type\"\u001b[0m\u001b[0;34m)\u001b[0m\u001b[0;34m\u001b[0m\u001b[0;34m\u001b[0m\u001b[0m\n\u001b[1;32m     99\u001b[0m \u001b[0;34m\u001b[0m\u001b[0m\n",
      "\u001b[0;32m~/anaconda3/envs/maskrcnn/lib/python3.7/site-packages/overpass/api.py\u001b[0m in \u001b[0;36m_get_from_overpass\u001b[0;34m(self, query)\u001b[0m\n\u001b[1;32m    165\u001b[0m                 \u001b[0mtimeout\u001b[0m\u001b[0;34m=\u001b[0m\u001b[0mself\u001b[0m\u001b[0;34m.\u001b[0m\u001b[0mtimeout\u001b[0m\u001b[0;34m,\u001b[0m\u001b[0;34m\u001b[0m\u001b[0;34m\u001b[0m\u001b[0m\n\u001b[1;32m    166\u001b[0m                 \u001b[0mproxies\u001b[0m\u001b[0;34m=\u001b[0m\u001b[0mself\u001b[0m\u001b[0;34m.\u001b[0m\u001b[0mproxies\u001b[0m\u001b[0;34m,\u001b[0m\u001b[0;34m\u001b[0m\u001b[0;34m\u001b[0m\u001b[0m\n\u001b[0;32m--> 167\u001b[0;31m                 \u001b[0mheaders\u001b[0m\u001b[0;34m=\u001b[0m\u001b[0mself\u001b[0m\u001b[0;34m.\u001b[0m\u001b[0mheaders\u001b[0m\u001b[0;34m,\u001b[0m\u001b[0;34m\u001b[0m\u001b[0;34m\u001b[0m\u001b[0m\n\u001b[0m\u001b[1;32m    168\u001b[0m             )\n\u001b[1;32m    169\u001b[0m \u001b[0;34m\u001b[0m\u001b[0m\n",
      "\u001b[0;32m~/anaconda3/envs/maskrcnn/lib/python3.7/site-packages/requests/api.py\u001b[0m in \u001b[0;36mpost\u001b[0;34m(url, data, json, **kwargs)\u001b[0m\n\u001b[1;32m    113\u001b[0m     \"\"\"\n\u001b[1;32m    114\u001b[0m \u001b[0;34m\u001b[0m\u001b[0m\n\u001b[0;32m--> 115\u001b[0;31m     \u001b[0;32mreturn\u001b[0m \u001b[0mrequest\u001b[0m\u001b[0;34m(\u001b[0m\u001b[0;34m\"post\"\u001b[0m\u001b[0;34m,\u001b[0m \u001b[0murl\u001b[0m\u001b[0;34m,\u001b[0m \u001b[0mdata\u001b[0m\u001b[0;34m=\u001b[0m\u001b[0mdata\u001b[0m\u001b[0;34m,\u001b[0m \u001b[0mjson\u001b[0m\u001b[0;34m=\u001b[0m\u001b[0mjson\u001b[0m\u001b[0;34m,\u001b[0m \u001b[0;34m**\u001b[0m\u001b[0mkwargs\u001b[0m\u001b[0;34m)\u001b[0m\u001b[0;34m\u001b[0m\u001b[0;34m\u001b[0m\u001b[0m\n\u001b[0m\u001b[1;32m    116\u001b[0m \u001b[0;34m\u001b[0m\u001b[0m\n\u001b[1;32m    117\u001b[0m \u001b[0;34m\u001b[0m\u001b[0m\n",
      "\u001b[0;32m~/anaconda3/envs/maskrcnn/lib/python3.7/site-packages/requests/api.py\u001b[0m in \u001b[0;36mrequest\u001b[0;34m(method, url, **kwargs)\u001b[0m\n\u001b[1;32m     57\u001b[0m     \u001b[0;31m# cases, and look like a memory leak in others.\u001b[0m\u001b[0;34m\u001b[0m\u001b[0;34m\u001b[0m\u001b[0;34m\u001b[0m\u001b[0m\n\u001b[1;32m     58\u001b[0m     \u001b[0;32mwith\u001b[0m \u001b[0msessions\u001b[0m\u001b[0;34m.\u001b[0m\u001b[0mSession\u001b[0m\u001b[0;34m(\u001b[0m\u001b[0;34m)\u001b[0m \u001b[0;32mas\u001b[0m \u001b[0msession\u001b[0m\u001b[0;34m:\u001b[0m\u001b[0;34m\u001b[0m\u001b[0;34m\u001b[0m\u001b[0m\n\u001b[0;32m---> 59\u001b[0;31m         \u001b[0;32mreturn\u001b[0m \u001b[0msession\u001b[0m\u001b[0;34m.\u001b[0m\u001b[0mrequest\u001b[0m\u001b[0;34m(\u001b[0m\u001b[0mmethod\u001b[0m\u001b[0;34m=\u001b[0m\u001b[0mmethod\u001b[0m\u001b[0;34m,\u001b[0m \u001b[0murl\u001b[0m\u001b[0;34m=\u001b[0m\u001b[0murl\u001b[0m\u001b[0;34m,\u001b[0m \u001b[0;34m**\u001b[0m\u001b[0mkwargs\u001b[0m\u001b[0;34m)\u001b[0m\u001b[0;34m\u001b[0m\u001b[0;34m\u001b[0m\u001b[0m\n\u001b[0m\u001b[1;32m     60\u001b[0m \u001b[0;34m\u001b[0m\u001b[0m\n\u001b[1;32m     61\u001b[0m \u001b[0;34m\u001b[0m\u001b[0m\n",
      "\u001b[0;32m~/anaconda3/envs/maskrcnn/lib/python3.7/site-packages/requests/sessions.py\u001b[0m in \u001b[0;36mrequest\u001b[0;34m(self, method, url, params, data, headers, cookies, files, auth, timeout, allow_redirects, proxies, hooks, stream, verify, cert, json)\u001b[0m\n\u001b[1;32m    587\u001b[0m         }\n\u001b[1;32m    588\u001b[0m         \u001b[0msend_kwargs\u001b[0m\u001b[0;34m.\u001b[0m\u001b[0mupdate\u001b[0m\u001b[0;34m(\u001b[0m\u001b[0msettings\u001b[0m\u001b[0;34m)\u001b[0m\u001b[0;34m\u001b[0m\u001b[0;34m\u001b[0m\u001b[0m\n\u001b[0;32m--> 589\u001b[0;31m         \u001b[0mresp\u001b[0m \u001b[0;34m=\u001b[0m \u001b[0mself\u001b[0m\u001b[0;34m.\u001b[0m\u001b[0msend\u001b[0m\u001b[0;34m(\u001b[0m\u001b[0mprep\u001b[0m\u001b[0;34m,\u001b[0m \u001b[0;34m**\u001b[0m\u001b[0msend_kwargs\u001b[0m\u001b[0;34m)\u001b[0m\u001b[0;34m\u001b[0m\u001b[0;34m\u001b[0m\u001b[0m\n\u001b[0m\u001b[1;32m    590\u001b[0m \u001b[0;34m\u001b[0m\u001b[0m\n\u001b[1;32m    591\u001b[0m         \u001b[0;32mreturn\u001b[0m \u001b[0mresp\u001b[0m\u001b[0;34m\u001b[0m\u001b[0;34m\u001b[0m\u001b[0m\n",
      "\u001b[0;32m~/anaconda3/envs/maskrcnn/lib/python3.7/site-packages/requests/sessions.py\u001b[0m in \u001b[0;36msend\u001b[0;34m(self, request, **kwargs)\u001b[0m\n\u001b[1;32m    701\u001b[0m \u001b[0;34m\u001b[0m\u001b[0m\n\u001b[1;32m    702\u001b[0m         \u001b[0;31m# Send the request\u001b[0m\u001b[0;34m\u001b[0m\u001b[0;34m\u001b[0m\u001b[0;34m\u001b[0m\u001b[0m\n\u001b[0;32m--> 703\u001b[0;31m         \u001b[0mr\u001b[0m \u001b[0;34m=\u001b[0m \u001b[0madapter\u001b[0m\u001b[0;34m.\u001b[0m\u001b[0msend\u001b[0m\u001b[0;34m(\u001b[0m\u001b[0mrequest\u001b[0m\u001b[0;34m,\u001b[0m \u001b[0;34m**\u001b[0m\u001b[0mkwargs\u001b[0m\u001b[0;34m)\u001b[0m\u001b[0;34m\u001b[0m\u001b[0;34m\u001b[0m\u001b[0m\n\u001b[0m\u001b[1;32m    704\u001b[0m \u001b[0;34m\u001b[0m\u001b[0m\n\u001b[1;32m    705\u001b[0m         \u001b[0;31m# Total elapsed time of the request (approximately)\u001b[0m\u001b[0;34m\u001b[0m\u001b[0;34m\u001b[0m\u001b[0;34m\u001b[0m\u001b[0m\n",
      "\u001b[0;32m~/anaconda3/envs/maskrcnn/lib/python3.7/site-packages/requests/adapters.py\u001b[0m in \u001b[0;36msend\u001b[0;34m(self, request, stream, timeout, verify, cert, proxies)\u001b[0m\n\u001b[1;32m    517\u001b[0m                 \u001b[0;32mraise\u001b[0m \u001b[0mSSLError\u001b[0m\u001b[0;34m(\u001b[0m\u001b[0me\u001b[0m\u001b[0;34m,\u001b[0m \u001b[0mrequest\u001b[0m\u001b[0;34m=\u001b[0m\u001b[0mrequest\u001b[0m\u001b[0;34m)\u001b[0m\u001b[0;34m\u001b[0m\u001b[0;34m\u001b[0m\u001b[0m\n\u001b[1;32m    518\u001b[0m \u001b[0;34m\u001b[0m\u001b[0m\n\u001b[0;32m--> 519\u001b[0;31m             \u001b[0;32mraise\u001b[0m \u001b[0mConnectionError\u001b[0m\u001b[0;34m(\u001b[0m\u001b[0me\u001b[0m\u001b[0;34m,\u001b[0m \u001b[0mrequest\u001b[0m\u001b[0;34m=\u001b[0m\u001b[0mrequest\u001b[0m\u001b[0;34m)\u001b[0m\u001b[0;34m\u001b[0m\u001b[0;34m\u001b[0m\u001b[0m\n\u001b[0m\u001b[1;32m    520\u001b[0m \u001b[0;34m\u001b[0m\u001b[0m\n\u001b[1;32m    521\u001b[0m         \u001b[0;32mexcept\u001b[0m \u001b[0mClosedPoolError\u001b[0m \u001b[0;32mas\u001b[0m \u001b[0me\u001b[0m\u001b[0;34m:\u001b[0m\u001b[0;34m\u001b[0m\u001b[0;34m\u001b[0m\u001b[0m\n",
      "\u001b[0;31mConnectionError\u001b[0m: HTTPSConnectionPool(host='overpass-api.de', port=443): Max retries exceeded with url: /api/interpreter (Caused by NameResolutionError(\"<urllib3.connection.HTTPSConnection object at 0x7f9c3e3f26d8>: Failed to resolve 'overpass-api.de' ([Errno -3] Temporary failure in name resolution)\"))"
     ]
    }
   ],
   "source": [
    "import osmium as osm\n",
    "import pandas as pd\n",
    "from overpass import API\n",
    "\n",
    "api = API()\n",
    "\n",
    "#get starting lat and lon from the phone GPS\n",
    "starting_lat = 47.5846209\n",
    "starting_lon = -122.3010940\n",
    "roads_response = api.get('way[\"highway\" =\"residential\"](around:50,{0},{1});'.format(starting_lat,starting_lon)) \n",
    "buildings_response = api.get('way[\"building\"=\"yes\"](around:50,{0},{1});'.format(starting_lat,starting_lon)) \n",
    "trees_response = api.get('node[\"natural\"=\"tree\"](around:50,{0},{1});'.format(starting_lat,starting_lon)) \n",
    "\n",
    "roads = []\n",
    "buildings = []\n",
    "trees = []\n",
    "\n",
    "for way in roads_response.features:\n",
    "    roads.append(way.id)\n",
    "for building in buildings_response.features:\n",
    "    buildings.append(building.id)\n",
    "for tree in trees_response.features:\n",
    "    trees.append(tree.id)\n",
    "\n",
    "class OSMHandler(osm.SimpleHandler):\n",
    "    \n",
    "    def __init__(self):\n",
    "        osm.SimpleHandler.__init__(self)\n",
    "        self.osm_data = []\n",
    "        # self.address = {'addr:housenumber': '2400', 'addr:postcode': '98144', 'addr:street': 'South Hill Street'}\n",
    "        self.roads_with_latlon = []\n",
    "        self.buildings_with_latlon = []\n",
    "        self.trees_with_latlon = []\n",
    "    def node(self, n):\n",
    "        if n.id in trees:\n",
    "            self.trees_with_latlon.append(n)\n",
    "\n",
    "    def way(self, w):\n",
    "       \n",
    "        if w.id in roads:\n",
    "            list = []\n",
    "            for road in w.nodes:\n",
    "                list.append(road)\n",
    "            self.roads_with_latlon.append(list)\n",
    "        if w.id in buildings:\n",
    "            list = []\n",
    "            for building in w.nodes:\n",
    "                list.append(building)\n",
    "            self.buildings_with_latlon.append(list)\n",
    "            \n",
    "    # def relation(self, r):\n",
    "    #     self.tag_inventory(r, \"relation\")\n",
    "\n",
    "    \n",
    "osmhandler = OSMHandler()\n",
    "# scan the input file and fills the handler list accordingly\n",
    "osmhandler.apply_file(\"../Downloads/smaller_map.osm\", locations=True, idx='flex_mem')\n",
    "\n",
    "# transform the list into a pandas DataFrame\n",
    "# data_colnames = ['type', 'id', 'version', 'visible', 'ts', 'uid',\n",
    "#                  'user', 'chgset', 'ntags', 'tagkey', 'tagvalue']\n",
    "# df_osm = pd.DataFrame(osmhandler.osm_data, columns=data_colnames)\n",
    "# osmhandler.roads_with_latlon\n"
   ]
  },
  {
   "cell_type": "code",
   "execution_count": 19,
   "id": "e48a98ff-500b-424a-89aa-9ceb0a044f32",
   "metadata": {},
   "outputs": [
    {
     "data": {
      "text/plain": [
       "[[osmium.osm.NodeRef(ref=53136415, location=osmium.osm.Location(x=-1223015067, y=475869198)),\n",
       "  osmium.osm.NodeRef(ref=5757431543, location=osmium.osm.Location(x=-1223015731, y=475868612)),\n",
       "  osmium.osm.NodeRef(ref=2516369689, location=osmium.osm.Location(x=-1223015896, y=475868466)),\n",
       "  osmium.osm.NodeRef(ref=152010665, location=osmium.osm.Location(x=-1223016159, y=475868093)),\n",
       "  osmium.osm.NodeRef(ref=2516441880, location=osmium.osm.Location(x=-1223016311, y=475867646)),\n",
       "  osmium.osm.NodeRef(ref=9193214107, location=osmium.osm.Location(x=-1223016316, y=475866142)),\n",
       "  osmium.osm.NodeRef(ref=5440359896, location=osmium.osm.Location(x=-1223016323, y=475864945)),\n",
       "  osmium.osm.NodeRef(ref=4799960441, location=osmium.osm.Location(x=-1223016328, y=475863911)),\n",
       "  osmium.osm.NodeRef(ref=6632334769, location=osmium.osm.Location(x=-1223016329, y=475863758)),\n",
       "  osmium.osm.NodeRef(ref=53138092, location=osmium.osm.Location(x=-1223016332, y=475863228)),\n",
       "  osmium.osm.NodeRef(ref=4799960440, location=osmium.osm.Location(x=-1223016341, y=475862734)),\n",
       "  osmium.osm.NodeRef(ref=8416045669, location=osmium.osm.Location(x=-1223016390, y=475858994)),\n",
       "  osmium.osm.NodeRef(ref=4799922610, location=osmium.osm.Location(x=-1223016440, y=475855799)),\n",
       "  osmium.osm.NodeRef(ref=6632334766, location=osmium.osm.Location(x=-1223016433, y=475855437)),\n",
       "  osmium.osm.NodeRef(ref=53148758, location=osmium.osm.Location(x=-1223016422, y=475854927)),\n",
       "  osmium.osm.NodeRef(ref=4799922611, location=osmium.osm.Location(x=-1223016438, y=475854418)),\n",
       "  osmium.osm.NodeRef(ref=8416045670, location=osmium.osm.Location(x=-1223016490, y=475850133)),\n",
       "  osmium.osm.NodeRef(ref=4799922593, location=osmium.osm.Location(x=-1223016568, y=475845848)),\n",
       "  osmium.osm.NodeRef(ref=53232306, location=osmium.osm.Location(x=-1223016580, y=475845040))],\n",
       " [osmium.osm.NodeRef(ref=53232306, location=osmium.osm.Location(x=-1223016580, y=475845040)),\n",
       "  osmium.osm.NodeRef(ref=4799922587, location=osmium.osm.Location(x=-1223016585, y=475844198)),\n",
       "  osmium.osm.NodeRef(ref=4806589034, location=osmium.osm.Location(x=-1223016679, y=475837431)),\n",
       "  osmium.osm.NodeRef(ref=53150019, location=osmium.osm.Location(x=-1223016714, y=475836433))],\n",
       " [osmium.osm.NodeRef(ref=53232306, location=osmium.osm.Location(x=-1223016580, y=475845040)),\n",
       "  osmium.osm.NodeRef(ref=4799922590, location=osmium.osm.Location(x=-1223015205, y=475844988)),\n",
       "  osmium.osm.NodeRef(ref=3663412746, location=osmium.osm.Location(x=-1223009966, y=475844989)),\n",
       "  osmium.osm.NodeRef(ref=4799890424, location=osmium.osm.Location(x=-1223004571, y=475844986)),\n",
       "  osmium.osm.NodeRef(ref=53202700, location=osmium.osm.Location(x=-1223003369, y=475844994))],\n",
       " [osmium.osm.NodeRef(ref=3496255251, location=osmium.osm.Location(x=-1223026403, y=475844869)),\n",
       "  osmium.osm.NodeRef(ref=8374179171, location=osmium.osm.Location(x=-1223024970, y=475845126)),\n",
       "  osmium.osm.NodeRef(ref=3663412752, location=osmium.osm.Location(x=-1223023058, y=475845159)),\n",
       "  osmium.osm.NodeRef(ref=5440360055, location=osmium.osm.Location(x=-1223020202, y=475845135)),\n",
       "  osmium.osm.NodeRef(ref=4799922588, location=osmium.osm.Location(x=-1223017597, y=475845119)),\n",
       "  osmium.osm.NodeRef(ref=53232306, location=osmium.osm.Location(x=-1223016580, y=475845040))]]"
      ]
     },
     "execution_count": 19,
     "metadata": {},
     "output_type": "execute_result"
    }
   ],
   "source": [
    "osmhandler.roads_with_latlon "
   ]
  },
  {
   "cell_type": "code",
   "execution_count": 20,
   "id": "b8d6262f-7890-4d50-846e-43fea9c90874",
   "metadata": {},
   "outputs": [],
   "source": [
    "class RoadNode:\n",
    "    def __init__(self, r):\n",
    "        # self.visited = 0\n",
    "        self.nodes = []\n",
    "        self.intersection = 0\n",
    "        if r != None:\n",
    "            self.ref = r.ref\n",
    "            self.lat = r.location.lat\n",
    "            self.lon = r.location.lon\n",
    "        else:\n",
    "            self.ref = None\n",
    "            self.lat = None\n",
    "            self.lon = None\n",
    "    def addNode(self, node):\n",
    "        self.nodes = self.nodes + [node]\n",
    "\n",
    "\n",
    "road_nodes = {}\n",
    "starting_street_segment = None\n",
    "length = 0\n",
    "\n",
    "for roadds in osmhandler.roads_with_latlon:\n",
    "    prev_node = None\n",
    "\n",
    "    for road in roadds:\n",
    "        y = abs(road.location.lat - starting_lat)\n",
    "        x = abs(road.location.lon - starting_lon)\n",
    "        distance = x + y\n",
    "        if starting_street_segment == None:\n",
    "            starting_street_segment = [distance, road]\n",
    "        elif starting_street_segment[0] > distance:\n",
    "            starting_street_segment = [distance, road]\n",
    "            \n",
    "        #inserting to road_nodes dict.\n",
    "        if prev_node == None:\n",
    "            if road.ref in road_nodes:\n",
    "                prev_node = road_nodes[road.ref]\n",
    "            else:\n",
    "                node = RoadNode(road) \n",
    "                prev_node = node\n",
    "                road_nodes[road.ref] = node\n",
    "            \n",
    "        else:\n",
    "            length = length + 1\n",
    "            \n",
    "            if road.ref in road_nodes:\n",
    "                node = road_nodes[road.ref]\n",
    "            else:\n",
    "                node = RoadNode(road)      \n",
    "                road_nodes[road.ref] = node\n",
    "            \n",
    "            \n",
    "            node.addNode(prev_node)\n",
    "            \n",
    "            prev_node.addNode(node)\n",
    "            \n",
    "            prev_node = node\n",
    "\n",
    "for key in road_nodes:\n",
    "    if len(road_nodes[key].nodes) > 2:\n",
    "        road_nodes[key].intersection = 1\n",
    "\n",
    "\n",
    "\n",
    "        "
   ]
  },
  {
   "cell_type": "code",
   "execution_count": 21,
   "id": "cf47689d-6e90-43f8-a6ff-80de098a6454",
   "metadata": {},
   "outputs": [
    {
     "name": "stdout",
     "output_type": "stream",
     "text": [
      "[0.0002193999999988705, osmium.osm.NodeRef(ref=3663412746, location=osmium.osm.Location(x=-1223009966, y=475844989))]\n"
     ]
    }
   ],
   "source": [
    "print(starting_street_segment)"
   ]
  },
  {
   "cell_type": "code",
   "execution_count": null,
   "id": "8cc27bb9-8791-48b2-9dd6-080c097d0957",
   "metadata": {},
   "outputs": [],
   "source": []
  },
  {
   "cell_type": "code",
   "execution_count": 32,
   "id": "bef5f793-cf7f-44b6-9c4e-f1771b9ffa08",
   "metadata": {},
   "outputs": [
    {
     "name": "stdout",
     "output_type": "stream",
     "text": [
      "3663412746\n",
      "4799922590\n",
      "53232306\n",
      "4799922593\n",
      "8416045670\n",
      "4799922611\n",
      "53148758\n",
      "6632334766\n",
      "4799922610\n",
      "8416045669\n",
      "4799960440\n",
      "53138092\n",
      "6632334769\n",
      "4799960441\n",
      "5440359896\n",
      "9193214107\n",
      "2516441880\n",
      "152010665\n",
      "2516369689\n",
      "5757431543\n",
      "53136415\n",
      "5757431543\n",
      "2516369689\n",
      "152010665\n",
      "2516441880\n",
      "9193214107\n",
      "5440359896\n",
      "4799960441\n",
      "6632334769\n",
      "53138092\n",
      "4799960440\n",
      "8416045669\n",
      "4799922610\n",
      "6632334766\n",
      "53148758\n",
      "4799922611\n",
      "8416045670\n",
      "4799922593\n",
      "53232306\n",
      "4799922587\n",
      "4806589034\n",
      "53150019\n",
      "4806589034\n",
      "4799922587\n",
      "53232306\n",
      "4799922588\n",
      "5440360055\n",
      "3663412752\n",
      "8374179171\n",
      "3496255251\n",
      "8374179171\n",
      "3663412752\n",
      "5440360055\n",
      "4799922588\n",
      "53232306\n",
      "4799922590\n",
      "3663412746\n",
      "4799890424\n",
      "53202700\n",
      "4799890424\n",
      "3663412746\n"
     ]
    }
   ],
   "source": [
    "# def fly_drone_to_dest(start, dest, visited):\n",
    "#     start = 0\n",
    "#     end = 0\n",
    "#     for i, r in enumerate(visited):\n",
    "#         if r == start:\n",
    "#             start = i\n",
    "#         elif r == dest:\n",
    "#             end = i\n",
    "#     path = []\n",
    "#     if start > end:\n",
    "#         for i in range(start, end, -1):\n",
    "#             path.append(visited[i])\n",
    "#     else:\n",
    "#         path = visited[start:end]\n",
    "#     return path\n",
    "\n",
    "def instructions_dfs(roadNode, visited, intersection_point):\n",
    "    \n",
    "    visited = visited + [roadNode]\n",
    "\n",
    "    if roadNode.intersection == 1:\n",
    "        intersection = roadNode\n",
    "    else:\n",
    "        intersection = intersection_point\n",
    "    \n",
    "    for r in roadNode.nodes:\n",
    "        if r in visited:\n",
    "            continue\n",
    "\n",
    "        \n",
    "        visited = instructions_dfs(r, visited, intersection)\n",
    "        \n",
    "        if intersection_point != None or roadNode.intersection == 1:\n",
    "            visited = visited + [roadNode]\n",
    "\n",
    "    return visited\n",
    "     \n",
    "all_dir = []\n",
    "\n",
    "# for key in road_nodes: \n",
    "#     \n",
    "#     if road_nodes[key] in visited: \n",
    "#         continue\n",
    "#     # visited = visited + [road_nodes[key]]\n",
    "#     list = instructions_dfs(road_nodes[key], visited, road_nodes[key])\n",
    "#     all_dir.append(list)\n",
    "\n",
    "# visited = []\n",
    "# for node in road_nodes[starting_point[1].ref].nodes:\n",
    "#     print(node.ref)\n",
    "#     print(\"~~~\")\n",
    "#     list = instructions_dfs(road_nodes[starting_point[1].ref], visited, road_nodes[starting_point[1].ref])\n",
    "#     for r in list:\n",
    "#         print(r.ref)\n",
    "#     print(\"----\")\n",
    "#     if len(list) > length:\n",
    "#         all_dir = all_dir + [list]\n",
    "\n",
    "list = instructions_dfs(road_nodes[starting_street_segment[1].ref],  [], road_nodes[starting_street_segment[1].ref])\n",
    "all_dir = all_dir + [list]\n",
    "for r in all_dir:\n",
    "    for n in r:\n",
    "        print(n.ref)"
   ]
  },
  {
   "cell_type": "code",
   "execution_count": 33,
   "id": "07ab8a83-2a59-4b1b-a0d9-fabc66806f44",
   "metadata": {},
   "outputs": [],
   "source": [
    "import numpy as np\n",
    "\n",
    "smallest_route = None\n",
    "for route in all_dir:\n",
    "    if smallest_route == None:\n",
    "        smallest_route = route\n",
    "    elif len(smallest_route) > len(route):\n",
    "        smallest_route = route\n",
    "\n",
    "start_point = smallest_route.pop(0)\n",
    "\n",
    "vector_smallest_route = []\n",
    "for route in smallest_route:\n",
    "    x_comp = (start_point.lon - route.lon)*100000\n",
    "    y_comp = (start_point.lat - route.lat)*100000\n",
    "    dist = np.linalg.norm(np.array([x_comp, y_comp]) -np.array([0, 0]))\n",
    "    \n",
    "    start_point = route\n",
    "    vector_smallest_route.append([ x_comp, y_comp, dist])\n"
   ]
  },
  {
   "cell_type": "code",
   "execution_count": 37,
   "id": "19c76600-5d65-4aa6-ab99-6caf29cf7a80",
   "metadata": {
    "collapsed": true,
    "jupyter": {
     "outputs_hidden": true
    },
    "scrolled": true
   },
   "outputs": [
    {
     "ename": "SyntaxError",
     "evalue": "invalid syntax (3776508263.py, line 1)",
     "output_type": "error",
     "traceback": [
      "\u001b[0;36m  File \u001b[0;32m\"/tmp/ipykernel_1135/3776508263.py\"\u001b[0;36m, line \u001b[0;32m1\u001b[0m\n\u001b[0;31m    https://stackoverflow.com/questions/35935670/share-variables-between-different-jupyter-notebooks\u001b[0m\n\u001b[0m           ^\u001b[0m\n\u001b[0;31mSyntaxError\u001b[0m\u001b[0;31m:\u001b[0m invalid syntax\n"
     ]
    }
   ],
   "source": [
    "https://stackoverflow.com/questions/35935670/share-variables-between-different-jupyter-notebooks"
   ]
  },
  {
   "cell_type": "code",
   "execution_count": 34,
   "id": "f355d9be-a26c-443f-b430-9a74d48f54e5",
   "metadata": {},
   "outputs": [
    {
     "name": "stdout",
     "output_type": "stream",
     "text": [
      "Stored 'vector_smallest_route' (list)\n"
     ]
    }
   ],
   "source": [
    "%store vector_smallest_route"
   ]
  },
  {
   "cell_type": "code",
   "execution_count": 35,
   "id": "d66ecdaf-ad78-4b99-9b9d-dee04b3c11ec",
   "metadata": {},
   "outputs": [
    {
     "name": "stdout",
     "output_type": "stream",
     "text": [
      "Stored variables and their in-db values:\n",
      "vector_smallest_route             -> [[52.38999999903626, 0.010000000116860974, 52.3900\n"
     ]
    }
   ],
   "source": [
    "%store"
   ]
  },
  {
   "cell_type": "code",
   "execution_count": 36,
   "id": "b8a9d39e-e318-472b-af07-54b65d0a7b28",
   "metadata": {},
   "outputs": [
    {
     "data": {
      "text/plain": [
       "[[52.38999999903626, 0.010000000116860974, 52.39000095341688],\n",
       " [13.750000000811724, -0.5200000003924288, 13.759829214882377],\n",
       " [-0.11999999998124622, -8.079999999921483, 8.080891039899416],\n",
       " [-0.7800000005886432, -42.849999999816646, 42.85709859504263],\n",
       " [-0.5200000003924288, -42.849999999816646, 42.853155076198234],\n",
       " [-0.15999999902760464, -5.090000000507189, 5.092514114349808],\n",
       " [0.10999999915384251, -5.099999999913507, 5.101186136471753],\n",
       " [0.07000000010748408, -3.6199999996711085, 3.620676731998298],\n",
       " [-0.5000000001587068, -31.950000000335876, 31.95391212389527],\n",
       " [-0.4899999993313031, -37.40000000007626, 37.403209755381276],\n",
       " [-0.09000000034120603, -4.939999999464817, 4.940819769509288],\n",
       " [-0.029999999640040187, -5.300000000119098, 5.300084905097355],\n",
       " [-0.01000000082740371, -1.5300000001161607, 1.5300326795111272],\n",
       " [-0.049999999873762135, -10.340000000041982, 10.34012088908324],\n",
       " [-0.07000000010748408, -11.969999999905667, 11.970204676518975],\n",
       " [-0.049999999873762135, -15.04000000025485, 15.040083111726917],\n",
       " [-1.519999999288757, -4.469999999656693, 4.721366327110052],\n",
       " [-2.6300000001810986, -3.7300000002460365, 4.563967572495231],\n",
       " [-1.6500000000974069, -1.4600000000086766, 2.2032022150376434],\n",
       " [-6.639999999435986, -5.8599999995578855, 8.856026196174462],\n",
       " [6.639999999435986, 5.8599999995578855, 8.856026196174462],\n",
       " [1.6500000000974069, 1.4600000000086766, 2.2032022150376434],\n",
       " [2.6300000001810986, 3.7300000002460365, 4.563967572495231],\n",
       " [1.519999999288757, 4.469999999656693, 4.721366327110052],\n",
       " [0.049999999873762135, 15.04000000025485, 15.040083111726917],\n",
       " [0.07000000010748408, 11.969999999905667, 11.970204676518975],\n",
       " [0.049999999873762135, 10.340000000041982, 10.34012088908324],\n",
       " [0.01000000082740371, 1.5300000001161607, 1.5300326795111272],\n",
       " [0.029999999640040187, 5.300000000119098, 5.300084905097355],\n",
       " [0.09000000034120603, 4.939999999464817, 4.940819769509288],\n",
       " [0.4899999993313031, 37.40000000007626, 37.403209755381276],\n",
       " [0.5000000001587068, 31.950000000335876, 31.95391212389527],\n",
       " [-0.07000000010748408, 3.6199999996711085, 3.620676731998298],\n",
       " [-0.10999999915384251, 5.099999999913507, 5.101186136471753],\n",
       " [0.15999999902760464, 5.090000000507189, 5.092514114349808],\n",
       " [0.5200000003924288, 42.849999999816646, 42.853155076198234],\n",
       " [0.7800000005886432, 42.849999999816646, 42.85709859504263],\n",
       " [0.11999999998124622, 8.079999999921483, 8.080891039899416],\n",
       " [0.049999999873762135, 8.420000000342043, 8.420148455089576],\n",
       " [0.9399999996162478, 67.66999999996415, 67.67652842747201],\n",
       " [0.3500000005374204, 9.980000000098244, 9.986135388744595],\n",
       " [-0.3500000005374204, -9.980000000098244, 9.986135388744595],\n",
       " [-0.9399999996162478, -67.66999999996415, 67.67652842747201],\n",
       " [-0.049999999873762135, -8.420000000342043, 8.420148455089576],\n",
       " [10.170000000186974, -0.7899999999949614, 10.200637235182667],\n",
       " [26.049999999600004, -0.15999999973814738, 26.05049135772829],\n",
       " [28.559999999799857, -0.23999999996249244, 28.56100838535905],\n",
       " [19.120000000327764, 0.33000000030369847, 19.12284759163065],\n",
       " [14.329999999063148, 2.5699999994799327, 14.558633176588957],\n",
       " [-14.329999999063148, -2.5699999994799327, 14.558633176588957],\n",
       " [-19.120000000327764, -0.33000000030369847, 19.12284759163065],\n",
       " [-28.559999999799857, 0.23999999996249244, 28.56100838535905],\n",
       " [-26.049999999600004, 0.15999999973814738, 26.05049135772829],\n",
       " [-10.170000000186974, 0.7899999999949614, 10.200637235182667],\n",
       " [-13.750000000811724, 0.5200000003924288, 13.759829214882377],\n",
       " [-52.38999999903626, -0.010000000116860974, 52.39000095341688],\n",
       " [-53.95000000021355, 0.029999999640040187, 53.95000834126924],\n",
       " [-12.01999999977943, -0.07999999951380232, 12.020266219789796],\n",
       " [12.01999999977943, 0.07999999951380232, 12.020266219789796],\n",
       " [53.95000000021355, -0.029999999640040187, 53.95000834126924]]"
      ]
     },
     "execution_count": 36,
     "metadata": {},
     "output_type": "execute_result"
    }
   ],
   "source": [
    "vector_smallest_route"
   ]
  },
  {
   "cell_type": "code",
   "execution_count": 13,
   "id": "3f3eec3d-5dd7-4fa5-9cb5-d6c14c38466d",
   "metadata": {},
   "outputs": [
    {
     "data": {
      "text/plain": [
       "[-0.11999999998124622, -8.079999999921483]"
      ]
     },
     "execution_count": 13,
     "metadata": {},
     "output_type": "execute_result"
    }
   ],
   "source": [
    "vector_smallest_route[0][:2]"
   ]
  },
  {
   "cell_type": "code",
   "execution_count": null,
   "id": "354b8c21-cf13-4756-8845-464ca902dd5e",
   "metadata": {},
   "outputs": [],
   "source": []
  }
 ],
 "metadata": {
  "kernelspec": {
   "display_name": "mask_rcnn_tf_2.0",
   "language": "python",
   "name": "mask_rcnn_tf_2.0"
  },
  "language_info": {
   "codemirror_mode": {
    "name": "ipython",
    "version": 3
   },
   "file_extension": ".py",
   "mimetype": "text/x-python",
   "name": "python",
   "nbconvert_exporter": "python",
   "pygments_lexer": "ipython3",
   "version": "3.7.3"
  }
 },
 "nbformat": 4,
 "nbformat_minor": 5
}
