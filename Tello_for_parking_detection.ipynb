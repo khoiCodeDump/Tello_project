{
 "cells": [
  {
   "cell_type": "code",
   "execution_count": 1,
   "id": "6341961d-835e-454c-bc85-fabef75fd51b",
   "metadata": {},
   "outputs": [],
   "source": [
    "from djitellopy import Tello"
   ]
  },
  {
   "cell_type": "code",
   "execution_count": null,
   "id": "c381f782-2c3a-46fb-9bb3-8af9a40f14b5",
   "metadata": {},
   "outputs": [],
   "source": [
    "tello = Tello()\n",
    "\n",
    "tello.connect()\n",
    "\n",
    "starting_lat = 47.58460\n",
    "starting_lon = 122.30121\n",
    "\n"
   ]
  }
 ],
 "metadata": {
  "kernelspec": {
   "display_name": "Python 3 (ipykernel)",
   "language": "python",
   "name": "python3"
  },
  "language_info": {
   "codemirror_mode": {
    "name": "ipython",
    "version": 3
   },
   "file_extension": ".py",
   "mimetype": "text/x-python",
   "name": "python",
   "nbconvert_exporter": "python",
   "pygments_lexer": "ipython3",
   "version": "3.10.12"
  }
 },
 "nbformat": 4,
 "nbformat_minor": 5
}
