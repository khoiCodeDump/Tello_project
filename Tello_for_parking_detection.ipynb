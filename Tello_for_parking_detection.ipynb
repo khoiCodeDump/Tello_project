{
 "cells": [
  {
   "cell_type": "code",
   "execution_count": 1,
   "id": "6341961d-835e-454c-bc85-fabef75fd51b",
   "metadata": {},
   "outputs": [],
   "source": [
    "from djitellopy import Tello\n",
    "from time import sleep\n",
    "import numpy as np"
   ]
  },
  {
   "cell_type": "code",
   "execution_count": 41,
   "id": "c381f782-2c3a-46fb-9bb3-8af9a40f14b5",
   "metadata": {},
   "outputs": [
    {
     "name": "stderr",
     "output_type": "stream",
     "text": [
      "[INFO] tello.py - 129 - Tello instance was initialized. Host: '192.168.10.1'. Port: '8889'.\n",
      "[INFO] tello.py - 438 - Send command: 'command'\n",
      "[INFO] tello.py - 462 - Response command: 'ok'\n"
     ]
    }
   ],
   "source": [
    "tello = Tello()\n",
    "\n",
    "tello.connect(False)\n"
   ]
  },
  {
   "cell_type": "markdown",
   "id": "130aed3a-a4fc-46c5-bf30-439a54a69097",
   "metadata": {},
   "source": [
    "In order to determine the angle at which the drone has to turn at every single point, treat the movement of the drone as a vector and each turn will be calculated with a rotation matrix\n",
    "https://en.wikipedia.org/wiki/Rotation_matrix\n",
    "\n",
    "The formula to find the angle between vector u and vector v in 2D space is:\n",
    "    cos(theta) = (u dot v)/(mag(u) * mag(v))"
   ]
  },
  {
   "cell_type": "code",
   "execution_count": 2,
   "id": "51de5868-34e2-4477-b034-d7c33311555d",
   "metadata": {},
   "outputs": [],
   "source": [
    "%store -r vector_smallest_route\n",
    "\n",
    "def generate_flight_info(route):\n",
    "    \n",
    "    if abs(route[0][0]) > abs(route[0][1]):\n",
    "        if route[0][0] < 0:\n",
    "            start_vector = [1,0]\n",
    "        else: \n",
    "            start_vector = [-1,0]\n",
    "        \n",
    "    elif abs(route[0][0]) < abs(route[0][1]):\n",
    "        if route[0][1] < 0:\n",
    "            start_vector = [0,1]\n",
    "        else: \n",
    "            start_vector = [0,-1]\n",
    "    \n",
    "    start_vec = np.array(start_vector)\n",
    "    \n",
    "    flight_info = []\n",
    "    #Find angle between the start_vector and every vector in vector_smallest_route. Start_vector is updated after every calculation\n",
    "    for vector in route:\n",
    "        vector = np.array(vector)\n",
    "        dot_product = np.vdot(start_vector, vector)\n",
    "        start_vector_mag = np.linalg.norm(start_vector)\n",
    "        vector_mag = np.linalg.norm(vector)\n",
    "        arccos_val = np.arccos([dot_product/(start_vector_mag*vector_mag)])\n",
    "        yaw_angle = arccos_val[0]\n",
    "        time_of_flight = abs(vector[0]*100000)\n",
    "        yaw_distance_cm = 1.5*yaw_angle\n",
    "        yaw_speed = yaw_distance_cm/time_of_flight\n",
    "        flight_info.append([int(time_of_flight), int(yaw_speed)])\n",
    "    return [start_vector, flight_info]"
   ]
  },
  {
   "cell_type": "code",
   "execution_count": 14,
   "id": "2fb89e22-6ae7-4695-9a19-250fc9726247",
   "metadata": {},
   "outputs": [],
   "source": [
    "%store -r test_route_vector"
   ]
  },
  {
   "cell_type": "code",
   "execution_count": 3,
   "id": "33c2fbd6-c2fb-49af-ab46-976ba1824aa0",
   "metadata": {},
   "outputs": [
    {
     "data": {
      "text/plain": [
       "[[-1, 0],\n",
       " [[52, 0], [13, 0], [13, 0], [52, 0], [53, 0], [12, 0], [12, 0], [53, 0]]]"
      ]
     },
     "execution_count": 3,
     "metadata": {},
     "output_type": "execute_result"
    }
   ],
   "source": [
    "flight_info = generate_flight_info(vector_smallest_route)\n",
    "flight_info\n"
   ]
  },
  {
   "cell_type": "code",
   "execution_count": 35,
   "id": "128c5360-2bea-4a55-9c8f-5caaffdba7e7",
   "metadata": {},
   "outputs": [
    {
     "data": {
      "text/plain": [
       "7"
      ]
     },
     "execution_count": 35,
     "metadata": {},
     "output_type": "execute_result"
    }
   ],
   "source": [
    "test_height = \"7dm\"\n",
    "height = test_height[:test_height.index('d')]\n",
    "height = int(height)\n",
    "height"
   ]
  },
  {
   "cell_type": "code",
   "execution_count": 43,
   "id": "12f8f443-4ecf-4d88-8778-505f42e17975",
   "metadata": {},
   "outputs": [
    {
     "name": "stderr",
     "output_type": "stream",
     "text": [
      "[INFO] tello.py - 438 - Send command: 'takeoff'\n",
      "[INFO] tello.py - 462 - Response takeoff: 'ok'\n",
      "[INFO] tello.py - 438 - Send command: 'height?'\n",
      "[INFO] tello.py - 462 - Response height?: '0dm'\n",
      "[INFO] tello.py - 438 - Send command: 'up 200'\n",
      "[INFO] tello.py - 462 - Response up 200: 'error Motor stop'\n",
      "[INFO] tello.py - 438 - Send command: 'forward 70'\n",
      "[INFO] tello.py - 462 - Response forward 70: 'error No valid imu'\n",
      "[INFO] tello.py - 438 - Send command: 'cw 180'\n",
      "[INFO] tello.py - 462 - Response cw 180: 'error No valid imu'\n",
      "[INFO] tello.py - 438 - Send command: 'forward 70'\n",
      "[INFO] tello.py - 462 - Response forward 70: 'error No valid imu'\n",
      "[INFO] tello.py - 438 - Send command: 'land'\n",
      "[WARNING] tello.py - 448 - Aborting command 'land'. Did not receive a response after 7 seconds\n",
      "[INFO] tello.py - 438 - Send command: 'land'\n",
      "[INFO] tello.py - 462 - Response land: 'ok'\n"
     ]
    }
   ],
   "source": [
    "# tello.query_battery()\n",
    "tello.send_command_with_return(\"takeoff\", 3)\n",
    "\n",
    "height = tello.send_read_command(\"height?\")\n",
    "height = height[:height.index('d')]\n",
    "height = int(height)\n",
    "\n",
    "if height < 200:\n",
    "    tello.send_command_with_return(\"up \" + str(200-height), 3)\n",
    "\n",
    "    \n",
    "# test_flight = flight_info[1][:2]\n",
    "# # print(test_flight)\n",
    "# for route_vector in test_flight:\n",
    "#     tello.send_rc_control(0, 100, 0, route_vector[1])\n",
    "#     sleep(route_vector[0])\n",
    "\n",
    "tello.send_command_with_return(\"forward 70\", 4)\n",
    "tello.send_command_with_return(\"cw 180\", 4)\n",
    "tello.send_command_with_return(\"forward 70\", 4)\n",
    "\n",
    "# tello.send_rc_control(0, 35, 0, 0)\n",
    "# sleep(3)\n",
    "# tello.send_rc_control(0, 0, 0, 0)\n",
    "# sleep(1)\n",
    "# tello.send_rc_control(0, 0, 0, 45)\n",
    "# sleep(6)\n",
    "# tello.send_rc_control(0, 0, 0, 0)\n",
    "# sleep(1)\n",
    "# tello.send_rc_control(0, 35, 0, 0)\n",
    "# sleep(2)\n",
    "# tello.send_rc_control(0, 0, 0, 0)\n",
    "# sleep(1)\n",
    "\n",
    "tello.land()\n",
    "\n",
    "# starting_lat = 47.5844989\n",
    "# starting_lon = -122.3009966"
   ]
  },
  {
   "cell_type": "code",
   "execution_count": null,
   "id": "5c4926d2-b8d4-4c79-8589-c40c4133dd5f",
   "metadata": {},
   "outputs": [],
   "source": []
  },
  {
   "cell_type": "code",
   "execution_count": null,
   "id": "d597fc42-0c8a-4e61-9a41-01f14ebcec71",
   "metadata": {},
   "outputs": [],
   "source": []
  }
 ],
 "metadata": {
  "kernelspec": {
   "display_name": "Python 3 (ipykernel)",
   "language": "python",
   "name": "python3"
  },
  "language_info": {
   "codemirror_mode": {
    "name": "ipython",
    "version": 3
   },
   "file_extension": ".py",
   "mimetype": "text/x-python",
   "name": "python",
   "nbconvert_exporter": "python",
   "pygments_lexer": "ipython3",
   "version": "3.10.12"
  }
 },
 "nbformat": 4,
 "nbformat_minor": 5
}
